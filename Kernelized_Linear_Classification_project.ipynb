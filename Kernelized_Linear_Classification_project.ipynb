{
 "cells": [
  {
   "cell_type": "markdown",
   "id": "5ca3b637-bad6-491b-81d0-b0bb45c76623",
   "metadata": {},
   "source": [
    "# Kernelized Linear Classification Project"
   ]
  },
  {
   "cell_type": "markdown",
   "id": "741f366e-0fb7-4198-a0ca-c959ca121c31",
   "metadata": {},
   "source": [
    "### Importing Data"
   ]
  },
  {
   "cell_type": "code",
   "execution_count": 134,
   "id": "26fcb714-ba15-4d5b-a71c-785c59653e85",
   "metadata": {},
   "outputs": [],
   "source": [
    "import pandas as pd\n",
    "import numpy as np\n",
    "import matplotlib.pyplot as plt\n",
    "import random\n",
    "from math import exp\n",
    "# For hyperparameter tuning\n",
    "from skopt.space import Real, Integer\n",
    "from skopt import gp_minimize\n",
    "from skopt.utils import use_named_args"
   ]
  },
  {
   "cell_type": "code",
   "execution_count": 390,
   "id": "1ee78f76-dcac-499e-bc09-22725f330acb",
   "metadata": {},
   "outputs": [
    {
     "data": {
      "text/html": [
       "<div>\n",
       "<style scoped>\n",
       "    .dataframe tbody tr th:only-of-type {\n",
       "        vertical-align: middle;\n",
       "    }\n",
       "\n",
       "    .dataframe tbody tr th {\n",
       "        vertical-align: top;\n",
       "    }\n",
       "\n",
       "    .dataframe thead th {\n",
       "        text-align: right;\n",
       "    }\n",
       "</style>\n",
       "<table border=\"1\" class=\"dataframe\">\n",
       "  <thead>\n",
       "    <tr style=\"text-align: right;\">\n",
       "      <th></th>\n",
       "      <th>x1</th>\n",
       "      <th>x2</th>\n",
       "      <th>x3</th>\n",
       "      <th>x4</th>\n",
       "      <th>x5</th>\n",
       "      <th>x6</th>\n",
       "      <th>x7</th>\n",
       "      <th>x8</th>\n",
       "      <th>x9</th>\n",
       "      <th>x10</th>\n",
       "      <th>y</th>\n",
       "    </tr>\n",
       "  </thead>\n",
       "  <tbody>\n",
       "    <tr>\n",
       "      <th>0</th>\n",
       "      <td>1.205492</td>\n",
       "      <td>5.823226</td>\n",
       "      <td>98.837539</td>\n",
       "      <td>-1.075852</td>\n",
       "      <td>0.999205</td>\n",
       "      <td>0.911543</td>\n",
       "      <td>3.623558</td>\n",
       "      <td>-1.720267</td>\n",
       "      <td>-0.346191</td>\n",
       "      <td>-54.708330</td>\n",
       "      <td>-1</td>\n",
       "    </tr>\n",
       "    <tr>\n",
       "      <th>1</th>\n",
       "      <td>1.391530</td>\n",
       "      <td>3.611581</td>\n",
       "      <td>98.857197</td>\n",
       "      <td>-5.020318</td>\n",
       "      <td>0.677165</td>\n",
       "      <td>0.999492</td>\n",
       "      <td>3.413112</td>\n",
       "      <td>4.253865</td>\n",
       "      <td>2.041603</td>\n",
       "      <td>-54.317291</td>\n",
       "      <td>1</td>\n",
       "    </tr>\n",
       "    <tr>\n",
       "      <th>2</th>\n",
       "      <td>1.692571</td>\n",
       "      <td>-0.887019</td>\n",
       "      <td>100.901276</td>\n",
       "      <td>-0.595548</td>\n",
       "      <td>0.177550</td>\n",
       "      <td>-0.915495</td>\n",
       "      <td>4.320264</td>\n",
       "      <td>0.907834</td>\n",
       "      <td>3.126815</td>\n",
       "      <td>-56.397484</td>\n",
       "      <td>-1</td>\n",
       "    </tr>\n",
       "    <tr>\n",
       "      <th>3</th>\n",
       "      <td>4.289320</td>\n",
       "      <td>1.416843</td>\n",
       "      <td>100.784735</td>\n",
       "      <td>-2.897154</td>\n",
       "      <td>-0.066972</td>\n",
       "      <td>-0.786173</td>\n",
       "      <td>2.093003</td>\n",
       "      <td>1.336237</td>\n",
       "      <td>2.183829</td>\n",
       "      <td>-56.197728</td>\n",
       "      <td>1</td>\n",
       "    </tr>\n",
       "    <tr>\n",
       "      <th>4</th>\n",
       "      <td>0.542420</td>\n",
       "      <td>-1.010095</td>\n",
       "      <td>100.015580</td>\n",
       "      <td>-3.070705</td>\n",
       "      <td>0.088324</td>\n",
       "      <td>-0.242669</td>\n",
       "      <td>0.767942</td>\n",
       "      <td>-0.284683</td>\n",
       "      <td>-2.104145</td>\n",
       "      <td>-55.794045</td>\n",
       "      <td>1</td>\n",
       "    </tr>\n",
       "    <tr>\n",
       "      <th>...</th>\n",
       "      <td>...</td>\n",
       "      <td>...</td>\n",
       "      <td>...</td>\n",
       "      <td>...</td>\n",
       "      <td>...</td>\n",
       "      <td>...</td>\n",
       "      <td>...</td>\n",
       "      <td>...</td>\n",
       "      <td>...</td>\n",
       "      <td>...</td>\n",
       "      <td>...</td>\n",
       "    </tr>\n",
       "    <tr>\n",
       "      <th>9995</th>\n",
       "      <td>0.481134</td>\n",
       "      <td>-0.572225</td>\n",
       "      <td>99.274788</td>\n",
       "      <td>-0.868047</td>\n",
       "      <td>-0.663229</td>\n",
       "      <td>0.572447</td>\n",
       "      <td>5.163238</td>\n",
       "      <td>1.765743</td>\n",
       "      <td>0.720265</td>\n",
       "      <td>-54.952233</td>\n",
       "      <td>-1</td>\n",
       "    </tr>\n",
       "    <tr>\n",
       "      <th>9996</th>\n",
       "      <td>0.047373</td>\n",
       "      <td>0.990198</td>\n",
       "      <td>100.444834</td>\n",
       "      <td>-0.707179</td>\n",
       "      <td>0.912113</td>\n",
       "      <td>-0.510397</td>\n",
       "      <td>1.128577</td>\n",
       "      <td>0.116130</td>\n",
       "      <td>-2.559018</td>\n",
       "      <td>-56.008656</td>\n",
       "      <td>-1</td>\n",
       "    </tr>\n",
       "    <tr>\n",
       "      <th>9997</th>\n",
       "      <td>1.741933</td>\n",
       "      <td>0.036304</td>\n",
       "      <td>100.524071</td>\n",
       "      <td>-0.113742</td>\n",
       "      <td>-0.761337</td>\n",
       "      <td>-0.728295</td>\n",
       "      <td>-1.334732</td>\n",
       "      <td>-1.312760</td>\n",
       "      <td>-0.442573</td>\n",
       "      <td>-56.170876</td>\n",
       "      <td>-1</td>\n",
       "    </tr>\n",
       "    <tr>\n",
       "      <th>9998</th>\n",
       "      <td>2.574986</td>\n",
       "      <td>0.041442</td>\n",
       "      <td>98.983735</td>\n",
       "      <td>-1.937883</td>\n",
       "      <td>0.983004</td>\n",
       "      <td>0.798133</td>\n",
       "      <td>5.847342</td>\n",
       "      <td>0.904038</td>\n",
       "      <td>-1.695064</td>\n",
       "      <td>-54.820699</td>\n",
       "      <td>1</td>\n",
       "    </tr>\n",
       "    <tr>\n",
       "      <th>9999</th>\n",
       "      <td>0.123523</td>\n",
       "      <td>-1.518412</td>\n",
       "      <td>99.159300</td>\n",
       "      <td>-2.024888</td>\n",
       "      <td>0.785601</td>\n",
       "      <td>0.745629</td>\n",
       "      <td>-0.457173</td>\n",
       "      <td>0.408771</td>\n",
       "      <td>-2.163518</td>\n",
       "      <td>-54.806434</td>\n",
       "      <td>1</td>\n",
       "    </tr>\n",
       "  </tbody>\n",
       "</table>\n",
       "<p>10000 rows × 11 columns</p>\n",
       "</div>"
      ],
      "text/plain": [
       "            x1        x2          x3        x4        x5        x6        x7  \\\n",
       "0     1.205492  5.823226   98.837539 -1.075852  0.999205  0.911543  3.623558   \n",
       "1     1.391530  3.611581   98.857197 -5.020318  0.677165  0.999492  3.413112   \n",
       "2     1.692571 -0.887019  100.901276 -0.595548  0.177550 -0.915495  4.320264   \n",
       "3     4.289320  1.416843  100.784735 -2.897154 -0.066972 -0.786173  2.093003   \n",
       "4     0.542420 -1.010095  100.015580 -3.070705  0.088324 -0.242669  0.767942   \n",
       "...        ...       ...         ...       ...       ...       ...       ...   \n",
       "9995  0.481134 -0.572225   99.274788 -0.868047 -0.663229  0.572447  5.163238   \n",
       "9996  0.047373  0.990198  100.444834 -0.707179  0.912113 -0.510397  1.128577   \n",
       "9997  1.741933  0.036304  100.524071 -0.113742 -0.761337 -0.728295 -1.334732   \n",
       "9998  2.574986  0.041442   98.983735 -1.937883  0.983004  0.798133  5.847342   \n",
       "9999  0.123523 -1.518412   99.159300 -2.024888  0.785601  0.745629 -0.457173   \n",
       "\n",
       "            x8        x9        x10  y  \n",
       "0    -1.720267 -0.346191 -54.708330 -1  \n",
       "1     4.253865  2.041603 -54.317291  1  \n",
       "2     0.907834  3.126815 -56.397484 -1  \n",
       "3     1.336237  2.183829 -56.197728  1  \n",
       "4    -0.284683 -2.104145 -55.794045  1  \n",
       "...        ...       ...        ... ..  \n",
       "9995  1.765743  0.720265 -54.952233 -1  \n",
       "9996  0.116130 -2.559018 -56.008656 -1  \n",
       "9997 -1.312760 -0.442573 -56.170876 -1  \n",
       "9998  0.904038 -1.695064 -54.820699  1  \n",
       "9999  0.408771 -2.163518 -54.806434  1  \n",
       "\n",
       "[10000 rows x 11 columns]"
      ]
     },
     "execution_count": 390,
     "metadata": {},
     "output_type": "execute_result"
    }
   ],
   "source": [
    "dataset_pd = pd.read_csv('your_dataset.csv')\n",
    "dataset = dataset_pd.to_numpy()\n",
    "dataset_pd"
   ]
  },
  {
   "cell_type": "code",
   "execution_count": 3,
   "id": "0fdb0179-c149-4444-a3c5-cc8edf6b4139",
   "metadata": {},
   "outputs": [
    {
     "name": "stdout",
     "output_type": "stream",
     "text": [
      "Distribution of the binary class in the dataset:\n",
      " 1: 4992 , -1: 5008\n"
     ]
    }
   ],
   "source": [
    "class1 = np.count_nonzero(dataset == 1)\n",
    "class2 = np.count_nonzero(dataset == -1)\n",
    "print(f'Distribution of the binary class in the dataset:\\n 1: {class1} , -1: {class2}')"
   ]
  },
  {
   "cell_type": "code",
   "execution_count": 4,
   "id": "cba0f7fe-dadf-4040-a99b-3b49023852a4",
   "metadata": {},
   "outputs": [
    {
     "data": {
      "image/png": "[encoded data removed]",
      "text/plain": [
       "<Figure size 2000x1500 with 12 Axes>"
      ]
     },
     "metadata": {},
     "output_type": "display_data"
    }
   ],
   "source": [
    "# Histogram of Features\n",
    "dataset_pd.iloc[:, :-1].hist(bins=60, figsize=(20, 15))\n",
    "plt.show()"
   ]
  },
  {
   "cell_type": "markdown",
   "id": "d007f09f-f28f-42a8-9a58-6a894707b48c",
   "metadata": {},
   "source": [
    "### Preprocessing"
   ]
  },
  {
   "cell_type": "code",
   "execution_count": 5,
   "id": "798e3b69-3276-4cef-b8e8-a7af33bca670",
   "metadata": {},
   "outputs": [
    {
     "name": "stdout",
     "output_type": "stream",
     "text": [
      "X: 10000 samples and 10 features, y: 10000 labels\n"
     ]
    }
   ],
   "source": [
    "# Seperating data points and labels\n",
    "X = np.array([x[:-1] for x in dataset])\n",
    "y = np.array([int(x[-1]) for x in dataset])\n",
    "\n",
    "print(f'X: {X.shape[0]} samples and {X.shape[1]} features, y: {y.shape[0]} labels')"
   ]
  },
  {
   "cell_type": "code",
   "execution_count": 139,
   "id": "299409ff-d473-40a5-9c52-533c1934cb37",
   "metadata": {},
   "outputs": [
    {
     "data": {
      "text/plain": [
       "((8500, 10), (1500, 10), (8500,), (1500,))"
      ]
     },
     "execution_count": 139,
     "metadata": {},
     "output_type": "execute_result"
    }
   ],
   "source": [
    "# Split data points and label to training and test categories\n",
    "def data_split(X, y, train_size=0.85):\n",
    "    x_train = X[:int(train_size * len(X))]\n",
    "    x_test = X[int(train_size * len(X)):]\n",
    "    y_train = y[:int(train_size * len(y))]\n",
    "    y_test = y[int(train_size * len(y)):]\n",
    "\n",
    "    return x_train, x_test, y_train, y_test\n",
    "\n",
    "# split data set to train and test samples\n",
    "x_train, x_test, y_train, y_test = data_split(X, y, train_size=0.85)\n",
    "\n",
    "x_train.shape, x_test.shape, y_train.shape, y_test.shape "
   ]
  },
  {
   "cell_type": "markdown",
   "id": "41aed906-1af3-4118-8848-41745e1110b1",
   "metadata": {},
   "source": [
    "### Scaling Methods"
   ]
  },
  {
   "cell_type": "code",
   "execution_count": 7,
   "id": "48c13a12-54c9-4b34-a1dd-5b44237af724",
   "metadata": {},
   "outputs": [],
   "source": [
    "def z_score(set_train, set_test):\n",
    "    mean = np.mean(set_train, axis=0)\n",
    "    std = np.std(set_train, axis=0)\n",
    "    z_train = (set_train - mean) / std\n",
    "    z_test = (set_test - mean) / std # scale test set with mean and standard deviation from training set\n",
    "    return z_train, z_test\n",
    "\n",
    "def min_max(set_train, set_test):\n",
    "    minimum = np.min(set_train, axis=0)\n",
    "    maximum = np.max(set_train, axis=0)\n",
    "    return (set_train - minimum) / (maximum - minimum), (set_test - minimum) / (maximum - minimum) \n",
    "    "
   ]
  },
  {
   "cell_type": "code",
   "execution_count": 8,
   "id": "46883d91-a126-4c3e-94b1-a7489f45f03b",
   "metadata": {},
   "outputs": [],
   "source": [
    "# Scale data\n",
    "x_train_scaled, x_test_scaled = z_score(x_train, x_test)"
   ]
  },
  {
   "cell_type": "markdown",
   "id": "e7027dd6-b0fa-4254-9005-f4c3620eb232",
   "metadata": {},
   "source": [
    "### Testing"
   ]
  },
  {
   "cell_type": "markdown",
   "id": "d95e5cab-6068-40db-8a71-f47e98391e1d",
   "metadata": {},
   "source": [
    "#### Accuracy"
   ]
  },
  {
   "cell_type": "code",
   "execution_count": 9,
   "id": "6ae45523-608d-42f1-b265-0cbc4c4c99c5",
   "metadata": {},
   "outputs": [],
   "source": [
    "def accuracy(y_test, y_pred):\n",
    "    T = 0\n",
    "    for i in range(len(y_test)):\n",
    "        if y_test[i] == y_pred[i]:\n",
    "            T += 1\n",
    "\n",
    "    return 100 * T / len(y_test)"
   ]
  },
  {
   "cell_type": "markdown",
   "id": "f42ce6fb-3ddc-4a9a-9c1a-f894e45974f8",
   "metadata": {},
   "source": [
    "#### Cross validation (K-fold)"
   ]
  },
  {
   "cell_type": "code",
   "execution_count": 131,
   "id": "0312d5e7-b6ef-4c0d-a3bf-459f49275ae3",
   "metadata": {},
   "outputs": [
    {
     "data": {
      "text/plain": [
       "[[array([1700, 1701, 1702, ..., 8497, 8498, 8499]),\n",
       "  array([   0,    1,    2, ..., 1697, 1698, 1699])],\n",
       " [array([   0,    1,    2, ..., 8497, 8498, 8499]),\n",
       "  array([1700, 1701, 1702, ..., 3397, 3398, 3399])],\n",
       " [array([   0,    1,    2, ..., 8497, 8498, 8499]),\n",
       "  array([3400, 3401, 3402, ..., 5097, 5098, 5099])],\n",
       " [array([   0,    1,    2, ..., 8497, 8498, 8499]),\n",
       "  array([5100, 5101, 5102, ..., 6797, 6798, 6799])],\n",
       " [array([   0,    1,    2, ..., 6797, 6798, 6799]),\n",
       "  array([6800, 6801, 6802, ..., 8497, 8498, 8499])]]"
      ]
     },
     "execution_count": 131,
     "metadata": {},
     "output_type": "execute_result"
    }
   ],
   "source": [
    "def k_fold(data, k=5):\n",
    "    fold_size = len(data) // 5\n",
    "    indx = np.arange(len(data))\n",
    "    folds= []\n",
    "\n",
    "    for i in range(k):\n",
    "        test_indx = indx[i * fold_size : (i+1) * fold_size] \n",
    "        train_indx = np.concatenate([indx[ : i * fold_size], indx[(i+1) * fold_size : ]])\n",
    "        folds.append([train_indx, test_indx])\n",
    "\n",
    "    return folds\n",
    "\n",
    "# Make indicies for k-fold (Training set and validation set)\n",
    "k = 5\n",
    "fold_indx = k_fold(x_train, k)\n",
    "fold_indx"
   ]
  },
  {
   "cell_type": "markdown",
   "id": "f1f67e68-1a70-48e1-96f2-b102ff410b3c",
   "metadata": {},
   "source": [
    "## Learning Algorithms"
   ]
  },
  {
   "cell_type": "markdown",
   "id": "dc2413df-3027-41b8-a024-c5f67f2987cc",
   "metadata": {},
   "source": [
    "### Perceptron Algorithm"
   ]
  },
  {
   "cell_type": "code",
   "execution_count": 317,
   "id": "f2539fb5-a83d-4422-bc59-b3aee40b337d",
   "metadata": {},
   "outputs": [],
   "source": [
    "class Perceptron():\n",
    "    def __init__(self, learning_rate, n_iters):\n",
    "        self.lr = learning_rate\n",
    "        self.n_iters = n_iters\n",
    "\n",
    "    def fit(self, X, y):\n",
    "        n_samples, n_features = X.shape\n",
    "        \n",
    "        # Initialize weights\n",
    "        self.w = np.zeros(n_features)\n",
    "        \n",
    "        # Training\n",
    "        for _ in range(self.n_iters):\n",
    "            for i, x in enumerate(X):\n",
    "                y_predict = self.step(x @ self.w)\n",
    "\n",
    "                # Updating\n",
    "                if y_predict != y[i]:\n",
    "                    self.w += self.lr * y[i] * x\n",
    "\n",
    "        return self.w\n",
    "\n",
    "    def step(self, x):\n",
    "        return np.where(x > 0, 1, -1)\n",
    "\n",
    "    def predict(self, x):\n",
    "        y_predict = self.step(np.dot(x, self.w))\n",
    "        return np.where(y_predict > 0, 1, -1)\n",
    "    "
   ]
  },
  {
   "cell_type": "code",
   "execution_count": 323,
   "id": "9a6a97ee-63be-4bd3-9ebe-5a0152f07bff",
   "metadata": {},
   "outputs": [
    {
     "name": "stdout",
     "output_type": "stream",
     "text": [
      "Best parameters:\n",
      " learning_rate=0.015077042112439026, Iterations=961\n",
      " Accuracy: 64.02352941176471\n"
     ]
    }
   ],
   "source": [
    "# Bayesian Optimization for Hyperparameter Tuning Perceptron\n",
    "\n",
    "# Parameters to Tune\n",
    "search_space = [\n",
    "    Real(1e-2, 1e-1, name='learning_rate'),\n",
    "    Integer(600, 1100, name='n_iters'),\n",
    "]\n",
    "\n",
    "# Objective Function\n",
    "@use_named_args(search_space)\n",
    "def objective_function(**params):\n",
    "    learning_rate, n_iters = params['learning_rate'], params['n_iters']\n",
    "    # Initialize Model\n",
    "    p = Perceptron(learning_rate, n_iters)\n",
    "\n",
    "    accuracies = []\n",
    "    # k-fold\n",
    "    for train, validate in fold_indx:\n",
    "        x_train_fold, y_train_fold = x_train[train], y[train]\n",
    "        x_validate_fold, y_validate_fold = x_train[validate], y[validate]\n",
    "        # Scaling data\n",
    "        x_train_scaled_fold, x_validate_scaled_fold = z_score(x_train_fold, x_validate_fold)\n",
    "\n",
    "        # Train Model\n",
    "        p.fit(x_train_scaled_fold, y_train_fold)\n",
    "        # Predict \n",
    "        y_pred = p.predict(x_validate_scaled_fold)\n",
    "        # Accuracy of Model\n",
    "        accuracies.append(accuracy(y_validate_fold, y_pred))\n",
    "\n",
    "    # Average of k-fold Accuracies\n",
    "    score = sum(accuracies) / k\n",
    "    return -score\n",
    "\n",
    "result = gp_minimize(objective_function, search_space, n_calls=10, random_state=42)\n",
    "\n",
    "print(f'Best parameters:\\n learning_rate={result.x[0]}, Iterations={result.x[1]}\\n Accuracy: {-result.fun}')"
   ]
  },
  {
   "cell_type": "code",
   "execution_count": 324,
   "id": "f8c88e7b-71bf-4b41-abcd-80c117f25c03",
   "metadata": {},
   "outputs": [
    {
     "data": {
      "text/plain": [
       "62.266666666666666"
      ]
     },
     "execution_count": 324,
     "metadata": {},
     "output_type": "execute_result"
    }
   ],
   "source": [
    "# Initializing Model with tuned parameters\n",
    "p = Perceptron(learning_rate=result.x[0], n_iters=result.x[1])\n",
    "\n",
    "# Scaling Data\n",
    "x_train_scaled, x_test_scaled = z_score(x_train, x_test)\n",
    "\n",
    "# Train Model\n",
    "w_perceptron = p.fit(x_train_scaled, y_train)\n",
    "\n",
    "# Predict\n",
    "y_pred = p.predict(x_test_scaled)\n",
    "\n",
    "# Accuracy\n",
    "accuracy(y_test, y_pred)"
   ]
  },
  {
   "cell_type": "markdown",
   "id": "e365e00a-30e8-45c6-b382-94f190bb2908",
   "metadata": {},
   "source": [
    "### Support Vector Machines (SVMs) using the Pegasos Algorithm "
   ]
  },
  {
   "cell_type": "code",
   "execution_count": 318,
   "id": "9fb4e74c-3483-4b60-818d-dc9974f1e230",
   "metadata": {},
   "outputs": [],
   "source": [
    "class SVMPegasos():\n",
    "    def __init__(self, lambda_param=0.01, n_iters=1000):\n",
    "        self.lambda_param = lambda_param\n",
    "        self.n_iters = n_iters\n",
    "\n",
    "    def fit(self, X, y):\n",
    "        n_samples, n_features = X.shape\n",
    "\n",
    "        # Initialize weights\n",
    "        self.w = np.zeros(n_features)\n",
    "        self.weight = np.zeros(n_features)\n",
    "\n",
    "        # Training\n",
    "        for t in range(1, self.n_iters + 1):\n",
    "            eta = 1 / (self.lambda_param * t)\n",
    "            i = random.randint(0, n_samples - 1)\n",
    "\n",
    "            # Updating\n",
    "            if y[i] * X[i] @ self.w < 1:\n",
    "                self.w = (1 - 1/t) * self.w + (eta * y[i] * X[i])\n",
    "                self.weight += self.w\n",
    "            else:\n",
    "                self.w = (1 - 1/t) * self.w\n",
    "                self.weight += self.w\n",
    "\n",
    "        return self.weight / self.n_iters\n",
    "\n",
    "    def predict(self, x):\n",
    "        weight = self.weight / self.n_iters\n",
    "        return np.sign(x @ weight )\n",
    "            "
   ]
  },
  {
   "cell_type": "code",
   "execution_count": 255,
   "id": "9fb8762e-d020-4a5c-ad60-08c2d5e8d296",
   "metadata": {
    "scrolled": true
   },
   "outputs": [
    {
     "name": "stdout",
     "output_type": "stream",
     "text": [
      "Best parameters:\n",
      " lambda_param=0.011497632413220356, Iterations=99806\n",
      " Accuracy: 73.01176470588236\n"
     ]
    }
   ],
   "source": [
    "# Bayesian Optimization for Hyperparameter Tuning SVM with Pegasos\n",
    "\n",
    "# Parameters to Tune\n",
    "search_space = [\n",
    "    Real(1e-2, 5e-1, name='lambda_param'),\n",
    "    Integer(10000, 100000, name='n_iters'),\n",
    "]\n",
    "\n",
    "# Objective Function\n",
    "@use_named_args(search_space)\n",
    "def objective_function(**params):\n",
    "    lambda_param, n_iters = params['lambda_param'], params['n_iters']\n",
    "    # Initialize Model\n",
    "    svmp = SVMPegasos(lambda_param, n_iters)\n",
    "\n",
    "    accuracies = []\n",
    "    # k-fold\n",
    "    for train, validate in fold_indx:\n",
    "        x_train_fold, y_train_fold = x_train[train], y[train]\n",
    "        x_validate_fold, y_validate_fold = x_train[validate], y[validate]\n",
    "        # Scaling data\n",
    "        x_train_scaled_fold, x_validate_scaled_fold = z_score(x_train_fold, x_validate_fold)\n",
    "\n",
    "        # Train Model\n",
    "        svmp.fit(x_train_scaled_fold, y_train_fold)\n",
    "        # Predict \n",
    "        y_pred = svmp.predict(x_validate_scaled_fold)\n",
    "        # Accuracy of Model\n",
    "        accuracies.append(accuracy(y_validate_fold, y_pred))\n",
    "\n",
    "    # Average of k-fold Accuracies\n",
    "    score = sum(accuracies) / k\n",
    "    return -score\n",
    "\n",
    "result = gp_minimize(objective_function, search_space, n_calls=50, random_state=42)\n",
    "\n",
    "print(f'Best parameters:\\n lambda_param={result.x[0]}, Iterations={result.x[1]}\\n Accuracy: {-result.fun}')"
   ]
  },
  {
   "cell_type": "code",
   "execution_count": 361,
   "id": "8bf310c9-7258-4078-af84-01b1430cfa9d",
   "metadata": {},
   "outputs": [
    {
     "data": {
      "text/plain": [
       "71.06666666666666"
      ]
     },
     "execution_count": 361,
     "metadata": {},
     "output_type": "execute_result"
    }
   ],
   "source": [
    "# Initializing Model with tuned parameters\n",
    "svmp = SVMPegasos(lambda_param=result.x[0], n_iters=result.x[1])\n",
    "\n",
    "# Scaling Data\n",
    "x_train_scaled, x_test_scaled = z_score(x_train, x_test)\n",
    "\n",
    "# Train Model\n",
    "w_svm = svmp.fit(x_train_scaled, y_train)\n",
    "\n",
    "# Predict\n",
    "y_pred = svmp.predict(x_test_scaled)\n",
    "\n",
    "# Accuracy\n",
    "accuracy(y_test, y_pred)"
   ]
  },
  {
   "cell_type": "markdown",
   "id": "1360ddcf-7562-40ba-8e48-fa187ea02788",
   "metadata": {},
   "source": [
    "### Regularized Logistic Classification"
   ]
  },
  {
   "cell_type": "code",
   "execution_count": 319,
   "id": "9315aef5-46f8-41f8-93c3-1e10e07ee28f",
   "metadata": {},
   "outputs": [],
   "source": [
    "class PegasosLogistic():\n",
    "    def __init__(self, lambda_param=0.01, n_iters=1000):\n",
    "        self.lambda_param = lambda_param\n",
    "        self.n_iters = n_iters\n",
    "\n",
    "    def fit(self, X, y):\n",
    "        n_samples, n_features = X.shape\n",
    "\n",
    "        # Initialize weights\n",
    "        self.w = np.zeros(n_features)\n",
    "\n",
    "        # Training\n",
    "        for t in range(1, self.n_iters+1):\n",
    "            eta = 1 / (self.lambda_param * t)\n",
    "            i = random.randint(0, n_samples-1)\n",
    "            z = self.sigmoid(X[i] @ self.w)\n",
    "\n",
    "            # Updating \n",
    "            if y[i] != z:\n",
    "                self.w = (1 - 1/t) * self.w - (eta * (z - y[i]) * X[i])\n",
    "\n",
    "        return self.w\n",
    "\n",
    "    def sigmoid(self, z):\n",
    "        return 1 / (1 + np.exp(-z))\n",
    "\n",
    "    def predict(self, x):\n",
    "        z = self.sigmoid(x @ self.w)\n",
    "        return np.where(z >= 0.5, 1, -1)\n",
    "    "
   ]
  },
  {
   "cell_type": "code",
   "execution_count": 257,
   "id": "c12b20c0-3ca6-4912-9b6b-939fe44f2618",
   "metadata": {},
   "outputs": [
    {
     "name": "stdout",
     "output_type": "stream",
     "text": [
      "Best parameters:\n",
      " learning_rate=0.08000474078175099, Iterations=68580\n",
      " Accuracy: 72.51764705882354\n"
     ]
    }
   ],
   "source": [
    "# Bayesian Optimization for Hyperparameter Tuning Pegasos with Logistic loss\n",
    "\n",
    "# Parameters to Tune\n",
    "search_space = [\n",
    "    Real(1e-2, 5e-1, name='lambda_param'),\n",
    "    Integer(10000, 100000, name='n_iters'),\n",
    "]\n",
    "\n",
    "# Objective Function\n",
    "@use_named_args(search_space)\n",
    "def objective_function(**params):\n",
    "    lambda_param, n_iters = params['lambda_param'], params['n_iters']\n",
    "    # Initialize Model\n",
    "    pl = PegasosLogistic(lambda_param, n_iters)\n",
    "\n",
    "    accuracies = []\n",
    "    # k-fold\n",
    "    for train, validate in fold_indx:\n",
    "        x_train_fold, y_train_fold = x_train[train], y[train]\n",
    "        x_validate_fold, y_validate_fold = x_train[validate], y[validate]\n",
    "        # Scaling data\n",
    "        x_train_scaled_fold, x_validate_scaled_fold = z_score(x_train_fold, x_validate_fold)\n",
    "\n",
    "        # Train Model\n",
    "        pl.fit(x_train_scaled_fold, y_train_fold)\n",
    "        # Predict \n",
    "        y_pred = pl.predict(x_validate_scaled_fold)\n",
    "        # Accuracy of Model\n",
    "        accuracies.append(accuracy(y_validate_fold, y_pred))\n",
    "\n",
    "    # Average of k-fold Accuracies\n",
    "    score = sum(accuracies) / k\n",
    "    return -score\n",
    "\n",
    "result = gp_minimize(objective_function, search_space, n_calls=10, random_state=42)\n",
    "\n",
    "print(f'Best parameters:\\n learning_rate={result.x[0]}, Iterations={result.x[1]}\\n Accuracy: {-result.fun}')"
   ]
  },
  {
   "cell_type": "code",
   "execution_count": 365,
   "id": "54d0f059-2ecb-4ee4-bd4b-1cde6089953e",
   "metadata": {},
   "outputs": [
    {
     "data": {
      "text/plain": [
       "71.26666666666667"
      ]
     },
     "execution_count": 365,
     "metadata": {},
     "output_type": "execute_result"
    }
   ],
   "source": [
    "# Initializing Model with tuned parameters\n",
    "pl = PegasosLogistic(result.x[0], result.x[1])\n",
    "\n",
    "# Scaling Data\n",
    "x_train_scaled, x_test_scaled = z_score(x_train, x_test)\n",
    "\n",
    "# Train model\n",
    "w_pl = pl.fit(x_train_scaled, y_train)\n",
    "\n",
    "# Predict\n",
    "y_pred = pl.predict(x_test_scaled)\n",
    "\n",
    "# Accuracy\n",
    "accuracy(y_test, y_pred)"
   ]
  },
  {
   "cell_type": "markdown",
   "id": "53fdb82b-e0d9-4bf0-9a9a-1e5028c4c4e9",
   "metadata": {},
   "source": [
    "## Polynomial Feature Expansion of Algorithms"
   ]
  },
  {
   "cell_type": "code",
   "execution_count": 24,
   "id": "fc2c305f-17e8-45e2-ad89-b629a3a8cf1c",
   "metadata": {},
   "outputs": [],
   "source": [
    "def polynomial_features_d2(X):\n",
    "    n_samples, n_features = X.shape\n",
    "    poly_features = []\n",
    "\n",
    "    # Adding original features\n",
    "    poly_features.append(X)\n",
    "\n",
    "    # Adding the squared of the original features\n",
    "    for i in range(n_features):\n",
    "        poly_features.append(X[:, i:i+1] ** 2)\n",
    "\n",
    "    # Adding all the combinations of multiplications between features\n",
    "    for i in range(n_features):\n",
    "        for j in range(i+1, n_features):\n",
    "            poly_features.append(X[:, i:i+1] * X[:, j:j+1])\n",
    "        \n",
    "    return np.hstack(poly_features) \n"
   ]
  },
  {
   "cell_type": "code",
   "execution_count": 167,
   "id": "374dc849-0856-4817-925f-91f78cbf38e8",
   "metadata": {},
   "outputs": [
    {
     "name": "stdout",
     "output_type": "stream",
     "text": [
      "Dimension of the dataset with polynomial feature expansion of degree 2:\n",
      " (10000, 65)\n",
      "Dimesions of training and test sets after feature expansion of degree 2:\n"
     ]
    },
    {
     "data": {
      "text/plain": [
       "((8500, 65), (1500, 65), (8500,), (1500,))"
      ]
     },
     "execution_count": 167,
     "metadata": {},
     "output_type": "execute_result"
    }
   ],
   "source": [
    "# Expanding the original dataset features\n",
    "poly_X = polynomial_features_d2(X)\n",
    "print('Dimension of the dataset with polynomial feature expansion of degree 2:\\n', poly_X.shape)\n",
    "\n",
    "# Splitting train and test sets\n",
    "x_train_poly, x_test_poly, y_train, y_test = data_split(poly_X, y, train_size=0.85)\n",
    "print('Dimesions of training and test sets after feature expansion of degree 2:')\n",
    "x_train_poly.shape, x_test_poly.shape, y_train.shape, y_test.shape "
   ]
  },
  {
   "cell_type": "code",
   "execution_count": 168,
   "id": "9e5e9017-1536-48dc-b4c2-1abc3eb29244",
   "metadata": {},
   "outputs": [],
   "source": [
    "# Scale data points with expanded features\n",
    "x_train_poly_scaled, x_test_poly_scaled = z_score(x_train_poly, x_test_poly)"
   ]
  },
  {
   "cell_type": "markdown",
   "id": "5056f359-90c2-4157-8b9a-4d213a99c71a",
   "metadata": {},
   "source": [
    "### Perceptron (Polynomial Features)"
   ]
  },
  {
   "cell_type": "code",
   "execution_count": 260,
   "id": "a253983f-d572-486c-b76e-0f70103f87f3",
   "metadata": {},
   "outputs": [
    {
     "name": "stdout",
     "output_type": "stream",
     "text": [
      "Best parameters:\n",
      " learning_rate=0.022858013612974674, Iterations=721\n",
      " Accuracy: 88.56470588235294\n"
     ]
    }
   ],
   "source": [
    "# Tuning Hyper-parameters\n",
    "\n",
    "# Parameters to Tune\n",
    "search_space = [\n",
    "    Real(1e-2, 1e-1, name='learning_rate'),\n",
    "    Integer(200, 1000, name='n_iters'),\n",
    "]\n",
    "\n",
    "# Objective Function\n",
    "@use_named_args(search_space)\n",
    "def objective_function(**params):\n",
    "    learning_rate, n_iters = params['learning_rate'], params['n_iters']\n",
    "    # Initialize Model\n",
    "    pp = Perceptron(learning_rate, n_iters)\n",
    "\n",
    "    accuracies = []\n",
    "    # k-fold\n",
    "    for train, validate in fold_indx:\n",
    "        x_train_fold, y_train_fold = x_train_poly[train], y[train]\n",
    "        x_validate_fold, y_validate_fold = x_train_poly[validate], y[validate]\n",
    "        # Scaling data\n",
    "        x_train_scaled_fold, x_validate_scaled_fold = z_score(x_train_fold, x_validate_fold)\n",
    "\n",
    "        # Train Model\n",
    "        pp.fit(x_train_scaled_fold, y_train_fold)\n",
    "        # Predict \n",
    "        y_pred = pp.predict(x_validate_scaled_fold)\n",
    "        # Accuracy of Model\n",
    "        accuracies.append(accuracy(y_validate_fold, y_pred))\n",
    "\n",
    "    # Average of k-fold Accuracies\n",
    "    score = sum(accuracies) / k\n",
    "    return -score\n",
    "\n",
    "result = gp_minimize(objective_function, search_space, n_calls=10, random_state=42)\n",
    "\n",
    "print(f'Best parameters:\\n learning_rate={result.x[0]}, Iterations={result.x[1]}\\n Accuracy: {-result.fun}')"
   ]
  },
  {
   "cell_type": "code",
   "execution_count": 326,
   "id": "3056dd2c-4766-4b36-a0f0-674255a922d9",
   "metadata": {},
   "outputs": [
    {
     "data": {
      "text/plain": [
       "89.46666666666667"
      ]
     },
     "execution_count": 326,
     "metadata": {},
     "output_type": "execute_result"
    }
   ],
   "source": [
    "# Initializing Model with tuned parameters\n",
    "p_poly = Perceptron(learning_rate=result.x[0], n_iters=result.x[1])\n",
    "\n",
    "# Train Model\n",
    "w_perceptron_poly = p_poly.fit(x_train_poly_scaled, y_train)\n",
    "\n",
    "# Predict \n",
    "y_pred = p_poly.predict(x_test_poly_scaled)\n",
    "\n",
    "# Accuracy\n",
    "accuracy(y_test, y_pred)"
   ]
  },
  {
   "cell_type": "markdown",
   "id": "207bd4bd-f3b0-4d32-ace6-41f30764508c",
   "metadata": {},
   "source": [
    "### SVM Pegasos (Polynomial Features)"
   ]
  },
  {
   "cell_type": "code",
   "execution_count": 262,
   "id": "f1516613-dd90-428e-9c1f-45cf65fdb1c2",
   "metadata": {
    "scrolled": true
   },
   "outputs": [
    {
     "name": "stderr",
     "output_type": "stream",
     "text": [
      "C:\\Users\\Asus\\AppData\\Local\\Programs\\Python\\Python312\\Lib\\site-packages\\skopt\\optimizer\\optimizer.py:517: UserWarning: The objective has been evaluated at point [0.01, 100000] before, using random point [0.01969264183405751, 44722]\n",
      "  warnings.warn(\n",
      "C:\\Users\\Asus\\AppData\\Local\\Programs\\Python\\Python312\\Lib\\site-packages\\skopt\\optimizer\\optimizer.py:517: UserWarning: The objective has been evaluated at point [0.01, 100000] before, using random point [0.33320505948497403, 82736]\n",
      "  warnings.warn(\n",
      "C:\\Users\\Asus\\AppData\\Local\\Programs\\Python\\Python312\\Lib\\site-packages\\skopt\\optimizer\\optimizer.py:517: UserWarning: The objective has been evaluated at point [0.01, 100000] before, using random point [0.17815191283079532, 36363]\n",
      "  warnings.warn(\n",
      "C:\\Users\\Asus\\AppData\\Local\\Programs\\Python\\Python312\\Lib\\site-packages\\skopt\\optimizer\\optimizer.py:517: UserWarning: The objective has been evaluated at point [0.01, 100000] before, using random point [0.19294026034392645, 17305]\n",
      "  warnings.warn(\n",
      "C:\\Users\\Asus\\AppData\\Local\\Programs\\Python\\Python312\\Lib\\site-packages\\skopt\\optimizer\\optimizer.py:517: UserWarning: The objective has been evaluated at point [0.01, 100000] before, using random point [0.27324522364169795, 77733]\n",
      "  warnings.warn(\n",
      "C:\\Users\\Asus\\AppData\\Local\\Programs\\Python\\Python312\\Lib\\site-packages\\skopt\\optimizer\\optimizer.py:517: UserWarning: The objective has been evaluated at point [0.01, 100000] before, using random point [0.07156170224691333, 30060]\n",
      "  warnings.warn(\n",
      "C:\\Users\\Asus\\AppData\\Local\\Programs\\Python\\Python312\\Lib\\site-packages\\skopt\\optimizer\\optimizer.py:517: UserWarning: The objective has been evaluated at point [0.01, 100000] before, using random point [0.4309036425083374, 32325]\n",
      "  warnings.warn(\n",
      "C:\\Users\\Asus\\AppData\\Local\\Programs\\Python\\Python312\\Lib\\site-packages\\skopt\\optimizer\\optimizer.py:517: UserWarning: The objective has been evaluated at point [0.01, 100000] before, using random point [0.22929799859583008, 74544]\n",
      "  warnings.warn(\n",
      "C:\\Users\\Asus\\AppData\\Local\\Programs\\Python\\Python312\\Lib\\site-packages\\skopt\\optimizer\\optimizer.py:517: UserWarning: The objective has been evaluated at point [0.01, 100000] before, using random point [0.4510179041989836, 76959]\n",
      "  warnings.warn(\n",
      "C:\\Users\\Asus\\AppData\\Local\\Programs\\Python\\Python312\\Lib\\site-packages\\skopt\\optimizer\\optimizer.py:517: UserWarning: The objective has been evaluated at point [0.01, 100000] before, using random point [0.3490501177867585, 60270]\n",
      "  warnings.warn(\n",
      "C:\\Users\\Asus\\AppData\\Local\\Programs\\Python\\Python312\\Lib\\site-packages\\skopt\\optimizer\\optimizer.py:517: UserWarning: The objective has been evaluated at point [0.01, 100000] before, using random point [0.09620012238576091, 74371]\n",
      "  warnings.warn(\n",
      "C:\\Users\\Asus\\AppData\\Local\\Programs\\Python\\Python312\\Lib\\site-packages\\skopt\\optimizer\\optimizer.py:517: UserWarning: The objective has been evaluated at point [0.01, 100000] before, using random point [0.23730003336326216, 51390]\n",
      "  warnings.warn(\n",
      "C:\\Users\\Asus\\AppData\\Local\\Programs\\Python\\Python312\\Lib\\site-packages\\skopt\\optimizer\\optimizer.py:517: UserWarning: The objective has been evaluated at point [0.01, 100000] before, using random point [0.4599021116654032, 21848]\n",
      "  warnings.warn(\n",
      "C:\\Users\\Asus\\AppData\\Local\\Programs\\Python\\Python312\\Lib\\site-packages\\skopt\\optimizer\\optimizer.py:517: UserWarning: The objective has been evaluated at point [0.01, 100000] before, using random point [0.1233450183823699, 85813]\n",
      "  warnings.warn(\n",
      "C:\\Users\\Asus\\AppData\\Local\\Programs\\Python\\Python312\\Lib\\site-packages\\skopt\\optimizer\\optimizer.py:517: UserWarning: The objective has been evaluated at point [0.01, 100000] before, using random point [0.40537096735259515, 60058]\n",
      "  warnings.warn(\n",
      "C:\\Users\\Asus\\AppData\\Local\\Programs\\Python\\Python312\\Lib\\site-packages\\skopt\\optimizer\\optimizer.py:517: UserWarning: The objective has been evaluated at point [0.01, 100000] before, using random point [0.3266738937009133, 20372]\n",
      "  warnings.warn(\n",
      "C:\\Users\\Asus\\AppData\\Local\\Programs\\Python\\Python312\\Lib\\site-packages\\skopt\\optimizer\\optimizer.py:517: UserWarning: The objective has been evaluated at point [0.01, 100000] before, using random point [0.01823149969426771, 59035]\n",
      "  warnings.warn(\n",
      "C:\\Users\\Asus\\AppData\\Local\\Programs\\Python\\Python312\\Lib\\site-packages\\skopt\\optimizer\\optimizer.py:517: UserWarning: The objective has been evaluated at point [0.01, 100000] before, using random point [0.40414645830835055, 94518]\n",
      "  warnings.warn(\n",
      "C:\\Users\\Asus\\AppData\\Local\\Programs\\Python\\Python312\\Lib\\site-packages\\skopt\\optimizer\\optimizer.py:517: UserWarning: The objective has been evaluated at point [0.01, 100000] before, using random point [0.30601561532983856, 13789]\n",
      "  warnings.warn(\n",
      "C:\\Users\\Asus\\AppData\\Local\\Programs\\Python\\Python312\\Lib\\site-packages\\skopt\\optimizer\\optimizer.py:517: UserWarning: The objective has been evaluated at point [0.01, 100000] before, using random point [0.3051066061192314, 28473]\n",
      "  warnings.warn(\n",
      "C:\\Users\\Asus\\AppData\\Local\\Programs\\Python\\Python312\\Lib\\site-packages\\skopt\\optimizer\\optimizer.py:517: UserWarning: The objective has been evaluated at point [0.01, 100000] before, using random point [0.42295961782591524, 73010]\n",
      "  warnings.warn(\n",
      "C:\\Users\\Asus\\AppData\\Local\\Programs\\Python\\Python312\\Lib\\site-packages\\skopt\\optimizer\\optimizer.py:517: UserWarning: The objective has been evaluated at point [0.01, 100000] before, using random point [0.08803567273933942, 47340]\n",
      "  warnings.warn(\n",
      "C:\\Users\\Asus\\AppData\\Local\\Programs\\Python\\Python312\\Lib\\site-packages\\skopt\\optimizer\\optimizer.py:517: UserWarning: The objective has been evaluated at point [0.01, 100000] before, using random point [0.19328865441045096, 76570]\n",
      "  warnings.warn(\n",
      "C:\\Users\\Asus\\AppData\\Local\\Programs\\Python\\Python312\\Lib\\site-packages\\skopt\\optimizer\\optimizer.py:517: UserWarning: The objective has been evaluated at point [0.01, 100000] before, using random point [0.47197265160893803, 81525]\n",
      "  warnings.warn(\n",
      "C:\\Users\\Asus\\AppData\\Local\\Programs\\Python\\Python312\\Lib\\site-packages\\skopt\\optimizer\\optimizer.py:517: UserWarning: The objective has been evaluated at point [0.01, 100000] before, using random point [0.19803444935330508, 57932]\n",
      "  warnings.warn(\n",
      "C:\\Users\\Asus\\AppData\\Local\\Programs\\Python\\Python312\\Lib\\site-packages\\skopt\\optimizer\\optimizer.py:517: UserWarning: The objective has been evaluated at point [0.01, 100000] before, using random point [0.13903590646651612, 22910]\n",
      "  warnings.warn(\n",
      "C:\\Users\\Asus\\AppData\\Local\\Programs\\Python\\Python312\\Lib\\site-packages\\skopt\\optimizer\\optimizer.py:517: UserWarning: The objective has been evaluated at point [0.01, 100000] before, using random point [0.4856078053002781, 88888]\n",
      "  warnings.warn(\n",
      "C:\\Users\\Asus\\AppData\\Local\\Programs\\Python\\Python312\\Lib\\site-packages\\skopt\\optimizer\\optimizer.py:517: UserWarning: The objective has been evaluated at point [0.01, 100000] before, using random point [0.44772140285848355, 98791]\n",
      "  warnings.warn(\n",
      "C:\\Users\\Asus\\AppData\\Local\\Programs\\Python\\Python312\\Lib\\site-packages\\skopt\\optimizer\\optimizer.py:517: UserWarning: The objective has been evaluated at point [0.01, 100000] before, using random point [0.11177756100418773, 87941]\n",
      "  warnings.warn(\n",
      "C:\\Users\\Asus\\AppData\\Local\\Programs\\Python\\Python312\\Lib\\site-packages\\skopt\\optimizer\\optimizer.py:517: UserWarning: The objective has been evaluated at point [0.01, 100000] before, using random point [0.4761713920523891, 18602]\n",
      "  warnings.warn(\n",
      "C:\\Users\\Asus\\AppData\\Local\\Programs\\Python\\Python312\\Lib\\site-packages\\skopt\\optimizer\\optimizer.py:517: UserWarning: The objective has been evaluated at point [0.01, 100000] before, using random point [0.2067158982942404, 29690]\n",
      "  warnings.warn(\n",
      "C:\\Users\\Asus\\AppData\\Local\\Programs\\Python\\Python312\\Lib\\site-packages\\skopt\\optimizer\\optimizer.py:517: UserWarning: The objective has been evaluated at point [0.01, 100000] before, using random point [0.3098326031859049, 95557]\n",
      "  warnings.warn(\n",
      "C:\\Users\\Asus\\AppData\\Local\\Programs\\Python\\Python312\\Lib\\site-packages\\skopt\\optimizer\\optimizer.py:517: UserWarning: The objective has been evaluated at point [0.01, 100000] before, using random point [0.2238482937473525, 53109]\n",
      "  warnings.warn(\n",
      "C:\\Users\\Asus\\AppData\\Local\\Programs\\Python\\Python312\\Lib\\site-packages\\skopt\\optimizer\\optimizer.py:517: UserWarning: The objective has been evaluated at point [0.01, 100000] before, using random point [0.2623238640688104, 36423]\n",
      "  warnings.warn(\n",
      "C:\\Users\\Asus\\AppData\\Local\\Programs\\Python\\Python312\\Lib\\site-packages\\skopt\\optimizer\\optimizer.py:517: UserWarning: The objective has been evaluated at point [0.01, 100000] before, using random point [0.31086337015606846, 42303]\n",
      "  warnings.warn(\n",
      "C:\\Users\\Asus\\AppData\\Local\\Programs\\Python\\Python312\\Lib\\site-packages\\skopt\\optimizer\\optimizer.py:517: UserWarning: The objective has been evaluated at point [0.01, 100000] before, using random point [0.018302581621739096, 78874]\n",
      "  warnings.warn(\n",
      "C:\\Users\\Asus\\AppData\\Local\\Programs\\Python\\Python312\\Lib\\site-packages\\skopt\\optimizer\\optimizer.py:517: UserWarning: The objective has been evaluated at point [0.01, 100000] before, using random point [0.4098888417460531, 11668]\n",
      "  warnings.warn(\n",
      "C:\\Users\\Asus\\AppData\\Local\\Programs\\Python\\Python312\\Lib\\site-packages\\skopt\\optimizer\\optimizer.py:517: UserWarning: The objective has been evaluated at point [0.01, 100000] before, using random point [0.33895881495528263, 31471]\n",
      "  warnings.warn(\n"
     ]
    },
    {
     "name": "stdout",
     "output_type": "stream",
     "text": [
      "Best parameters:\n",
      " lambda_param=0.01, Iterations=100000\n",
      "Accuracy: 90.68235294117648\n"
     ]
    }
   ],
   "source": [
    "# Tuning Hyper-parameters\n",
    "\n",
    "# Parameters to Tune\n",
    "search_space = [\n",
    "    Real(1e-2, 5e-1, name='lambda_param'),\n",
    "    Integer(10000, 100000, name='n_iters'),\n",
    "]\n",
    "\n",
    "# Objective Function\n",
    "@use_named_args(search_space)\n",
    "def objective_function(**params):\n",
    "    lambda_param, n_iters = params['lambda_param'], params['n_iters']\n",
    "    # Initialize Model\n",
    "    svmpp = SVMPegasos(lambda_param, n_iters)\n",
    "\n",
    "    accuracies = []\n",
    "    # k-fold\n",
    "    for train, validate in fold_indx:\n",
    "        x_train_fold, y_train_fold = x_train_poly[train], y[train]\n",
    "        x_validate_fold, y_validate_fold = x_train_poly[validate], y[validate]\n",
    "        # Scaling data\n",
    "        x_train_scaled_fold, x_validate_scaled_fold = z_score(x_train_fold, x_validate_fold)\n",
    "\n",
    "        # Train Model\n",
    "        svmpp.fit(x_train_scaled_fold, y_train_fold)\n",
    "        # Predict \n",
    "        y_pred = svmpp.predict(x_validate_scaled_fold)\n",
    "        # Accuracy of Model\n",
    "        accuracies.append(accuracy(y_validate_fold, y_pred))\n",
    "\n",
    "    # Average of k-fold Accuracies\n",
    "    score = sum(accuracies) / k\n",
    "    return -score\n",
    "\n",
    "result = gp_minimize(objective_function, search_space, n_calls=50, random_state=42)\n",
    "\n",
    "print(f'Best parameters:\\n lambda_param={result.x[0]}, Iterations={result.x[1]}\\nAccuracy: {-result.fun}')"
   ]
  },
  {
   "cell_type": "code",
   "execution_count": 374,
   "id": "ff2b74ab-f48f-4907-8e6a-cd2f13c7efe3",
   "metadata": {},
   "outputs": [
    {
     "data": {
      "text/plain": [
       "90.33333333333333"
      ]
     },
     "execution_count": 374,
     "metadata": {},
     "output_type": "execute_result"
    }
   ],
   "source": [
    "# Initializing Model with tuned parameters\n",
    "# svm_poly = SVMPegasos(lambda_param=result.x[0], n_iters=result.x[1])\n",
    "svm_poly = SVMPegasos(lambda_param=0.01, n_iters=100000)\n",
    "\n",
    "# Train Model\n",
    "w_svm_poly = svm_poly.fit(x_train_poly_scaled, y_train)\n",
    "\n",
    "# Predict\n",
    "y_pred = svm_poly.predict(x_test_poly_scaled)\n",
    "\n",
    "# Accuracy\n",
    "accuracy(y_test, y_pred)"
   ]
  },
  {
   "cell_type": "markdown",
   "id": "7efc4074-8f56-4884-a380-b7d35436a52d",
   "metadata": {},
   "source": [
    "### Regularized Logistic (Polynomial Features)"
   ]
  },
  {
   "cell_type": "code",
   "execution_count": 264,
   "id": "f754b325-7940-41ba-be85-decac1bf66e1",
   "metadata": {},
   "outputs": [
    {
     "name": "stderr",
     "output_type": "stream",
     "text": [
      "C:\\Users\\Asus\\AppData\\Local\\Temp\\ipykernel_26952\\180497208.py:23: RuntimeWarning: overflow encountered in exp\n",
      "  return 1 / (1 + np.exp(-z))\n"
     ]
    },
    {
     "name": "stdout",
     "output_type": "stream",
     "text": [
      "Best parameters:\n",
      " learning_rate=0.08000474078175099, Iterations=68580\n",
      "Accuracy:\n",
      " 79.67058823529412\n"
     ]
    }
   ],
   "source": [
    "# Tuning Hyper-parameters\n",
    "\n",
    "# Parameters to Tune\n",
    "search_space = [\n",
    "    Real(1e-2, 5e-1, name='lambda_param'),\n",
    "    Integer(10000, 100000, name='n_iters'),\n",
    "]\n",
    "\n",
    "# Objective Function\n",
    "@use_named_args(search_space)\n",
    "def objective_function(**params):\n",
    "    lambda_param, n_iters = params['lambda_param'], params['n_iters']\n",
    "    # Initialize Model\n",
    "    pl = PegasosLogistic(lambda_param, n_iters)\n",
    "\n",
    "    accuracies = []\n",
    "    # k-fold\n",
    "    for train, validate in fold_indx:\n",
    "        x_train_fold, y_train_fold = x_train_poly[train], y[train]\n",
    "        x_validate_fold, y_validate_fold = x_train_poly[validate], y[validate]\n",
    "        # Scaling data\n",
    "        x_train_scaled_fold, x_validate_scaled_fold = z_score(x_train_fold, x_validate_fold)\n",
    "\n",
    "        # Train Model\n",
    "        pl.fit(x_train_scaled_fold, y_train_fold)\n",
    "        # Predict \n",
    "        y_pred = pl.predict(x_validate_scaled_fold)\n",
    "        # Accuracy of Model\n",
    "        accuracies.append(accuracy(y_validate_fold, y_pred))\n",
    "\n",
    "    # Average of k-fold Accuracies\n",
    "    score = sum(accuracies) / k\n",
    "    return -score\n",
    "\n",
    "\n",
    "# Bayesian Optimization for Hyperparameter Tuning\n",
    "result = gp_minimize(objective_function, search_space, n_calls=10, random_state=42)\n",
    "print(f'Best parameters:\\n learning_rate={result.x[0]}, Iterations={result.x[1]}\\nAccuracy:\\n {-result.fun}')"
   ]
  },
  {
   "cell_type": "code",
   "execution_count": 375,
   "id": "8f262453-69ae-4478-b362-8d0bd808a0ed",
   "metadata": {},
   "outputs": [
    {
     "data": {
      "text/plain": [
       "79.86666666666666"
      ]
     },
     "execution_count": 375,
     "metadata": {},
     "output_type": "execute_result"
    }
   ],
   "source": [
    "# Initializing Model with tuned parameters\n",
    "pl_poly = PegasosLogistic(lambda_param=0.08000474078175099, n_iters=68580)\n",
    "\n",
    "# Train Model\n",
    "w_pl_poly = pl_poly.fit(x_train_poly_scaled, y_train)\n",
    "\n",
    "# Predict\n",
    "y_pred = pl_poly.predict(x_test_poly_scaled)\n",
    "\n",
    "# Accuracy\n",
    "accuracy(y_test, y_pred)"
   ]
  },
  {
   "cell_type": "markdown",
   "id": "31962d79-0bcc-4c6f-99a4-89154241c53a",
   "metadata": {},
   "source": [
    "### Weight Comparison"
   ]
  },
  {
   "cell_type": "code",
   "execution_count": 348,
   "id": "ea4b7f62-5962-4276-8f23-6be202f17be6",
   "metadata": {},
   "outputs": [
    {
     "name": "stdout",
     "output_type": "stream",
     "text": [
      "Perceptron linear feature weight comparison:\n",
      " Average weight: 0.0035163061566456737\n",
      " Average linear weight after expansion:-0.0010178638232066993\n",
      " Absolute difference:0.004534169979852373\n"
     ]
    }
   ],
   "source": [
    "avg_per_poly = sum(w_perceptron_poly[:10]) / 10\n",
    "avg_per = sum(w_perceptron) / 10\n",
    "print(f'Perceptron linear feature weight comparison:\\n Average weight: {avg_per}\\n Average linear weight after expansion:{avg_per_poly}\\n Absolute difference:{abs(avg_per_poly - avg_per)}')"
   ]
  },
  {
   "cell_type": "code",
   "execution_count": 380,
   "id": "9e32aff4-10ec-4936-888e-494b27446a94",
   "metadata": {},
   "outputs": [
    {
     "name": "stdout",
     "output_type": "stream",
     "text": [
      "SVM linear feature weight comparison:\n",
      " Average weight: 0.19967926930755936\n",
      " Average linear weight after expansion:0.04139284751392648\n",
      " Absolute difference:0.1582864217936329\n"
     ]
    }
   ],
   "source": [
    "avg_svm_poly = sum(w_svm_poly[:10]) / 10\n",
    "avg_svm = sum(w_svm) / 10\n",
    "print(f'SVM linear feature weight comparison:\\n Average weight: {avg_svm}\\n Average linear weight after expansion:{avg_svm_poly}\\n Absolute difference:{abs(avg_svm_poly - avg_svm)}')"
   ]
  },
  {
   "cell_type": "code",
   "execution_count": 391,
   "id": "70de2c88-4491-4708-b107-0bd6c00cec06",
   "metadata": {},
   "outputs": [
    {
     "name": "stdout",
     "output_type": "stream",
     "text": [
      "Pegasos Logistic linear feature weight comparison:\n",
      " Average weight: 2.042220136312469\n",
      " Average linear weight after expansion:0.2651583202279282\n",
      " Absolute difference:1.7770618160845406\n"
     ]
    }
   ],
   "source": [
    "avg_pl_poly = sum(w_pl_poly[:10]) / 10\n",
    "avg_pl = sum(w_pl) / 10\n",
    "print(f'Pegasos Logistic linear feature weight comparison:\\n Average weight: {avg_pl}\\n Average linear weight after expansion:{avg_pl_poly}\\n Absolute difference:{abs(avg_pl_poly - avg_pl)}')"
   ]
  },
  {
   "cell_type": "markdown",
   "id": "532f3259-31fc-4abd-9f9f-832cb15d4caf",
   "metadata": {},
   "source": [
    "## Algorithms using Kernel Methods"
   ]
  },
  {
   "cell_type": "markdown",
   "id": "fc695866-11c8-4a56-9b1d-c7b3b89ea38d",
   "metadata": {},
   "source": [
    "### Kernelized Perceptron"
   ]
  },
  {
   "cell_type": "code",
   "execution_count": 385,
   "id": "8d0c1c4f-aa31-4f06-ba3d-2205661e542d",
   "metadata": {},
   "outputs": [],
   "source": [
    "class PerceptronKernelized():\n",
    "\n",
    "    def polynomial_kernel(self, x1, x2, d=2, c=1):\n",
    "        result = (x1 @ x2 + c) ** d\n",
    "        return result\n",
    "\n",
    "    def guassian_kernel(self, x1, x2, sigma=1):\n",
    "        result = np.exp((-np.linalg.norm(x1 - x2) ** 2) / (2 * sigma ** 2))\n",
    "        return result\n",
    "    \n",
    "    def fit_predict_polynomial(self, X, y, x_test, d):\n",
    "        n_samples, n_features = X.shape\n",
    "        self.S = []\n",
    "        \n",
    "        # Training\n",
    "        for i in range(n_samples):\n",
    "            y_pred = np.sign(sum(y[j] * self.polynomial_kernel(X[j], X[i], d) for j in self.S))\n",
    "            if y_pred != y[i]:\n",
    "                self.S.append(i)\n",
    "                \n",
    "        # Predict\n",
    "        predict = []\n",
    "        for x in x_test:\n",
    "            ans = np.sign(sum(y[j] * self.polynomial_kernel(X[j], x, d) for j in self.S))\n",
    "            predict.append(ans)\n",
    "\n",
    "        return np.array(predict)\n",
    "\n",
    "\n",
    "    def fit_predict_guassian(self, X, y, x_test, sigma):\n",
    "        n_samples, n_features = X.shape\n",
    "        self.S = []\n",
    "        \n",
    "        # Training\n",
    "        for t in range(1, self.n_iters+1):\n",
    "            \n",
    "            for i in range(n_samples):\n",
    "                y_pred = np.sign(sum(y[j] * self.guassian_kernel(X[j], X[i], sigma) for j in self.S))\n",
    "                if y_pred != y[i]:\n",
    "                    self.S.append(i)\n",
    "                \n",
    "        # Predict\n",
    "        predict = []\n",
    "        for x in x_test:\n",
    "            ans = np.sign(sum(y[j] * self.guassian_kernel(X[j], x, sigma) for j in self.S))\n",
    "            predict.append(ans)\n",
    "\n",
    "        return np.array(predict)\n"
   ]
  },
  {
   "cell_type": "code",
   "execution_count": 388,
   "id": "ed0b4b31-eca9-4ea5-8764-8f599de95a9d",
   "metadata": {
    "scrolled": true
   },
   "outputs": [
    {
     "name": "stdout",
     "output_type": "stream",
     "text": [
      "Best parameters:\n",
      " Degree=4, \n",
      " Accuracy: 91.43529411764705\n"
     ]
    }
   ],
   "source": [
    "# Tuning Hyper-parameters\n",
    "\n",
    "# Parameters to Tune\n",
    "search_space = [\n",
    "    Integer(2, 4, name='degree')\n",
    "]\n",
    "\n",
    "@use_named_args(search_space)\n",
    "def objective_function(**params):\n",
    "    degree = params['degree']\n",
    "    # Initialize Model\n",
    "    pk = PerceptronKernelized()\n",
    "\n",
    "    accuracies = []\n",
    "    # k-fold\n",
    "    for train, validate in fold_indx:\n",
    "        x_train_fold, y_train_fold = x_train[train], y[train]\n",
    "        x_validate_fold, y_validate_fold = x_train[validate], y[validate]\n",
    "        # Scaling data\n",
    "        x_train_scaled_fold, x_validate_scaled_fold = z_score(x_train_fold, x_validate_fold)\n",
    "\n",
    "        # Train Model and Predict\n",
    "        y_pred_polynomial = pk.fit_predict_polynomial(x_train_scaled_fold, y_train_fold, x_validate_scaled_fold, degree)\n",
    "        # Accuracy\n",
    "        accuracies.append(accuracy(y_validate_fold, y_pred_polynomial))\n",
    "\n",
    "    # Average of k-fold Accuracies\n",
    "    score = sum(accuracies) / k\n",
    "    return -score\n",
    "\n",
    "result = gp_minimize(objective_function, search_space, n_calls=10, random_state=42)\n",
    "\n",
    "print(f'Best parameters:\\n Degree={result.x[0]}, \\n Accuracy: {-result.fun}')"
   ]
  },
  {
   "cell_type": "code",
   "execution_count": 389,
   "id": "88523377-17d2-4f69-9b57-7d0998a94cc7",
   "metadata": {},
   "outputs": [
    {
     "data": {
      "text/plain": [
       "88.0"
      ]
     },
     "execution_count": 389,
     "metadata": {},
     "output_type": "execute_result"
    }
   ],
   "source": [
    "# Initializing Model with tuned parameters\n",
    "pp_model = PerceptronKernelized()\n",
    "\n",
    "# Train Model and Predict\n",
    "y_pred_poly = pp_model.fit_predict_polynomial(x_train_scaled, y_train, x_test_scaled, result.x[0])\n",
    "\n",
    "# Accuracy\n",
    "accuracy(y_test, y_pred_guassian)"
   ]
  },
  {
   "cell_type": "code",
   "execution_count": 299,
   "id": "42c11c6d-0c43-43cf-b496-530c490b54b2",
   "metadata": {},
   "outputs": [
    {
     "name": "stdout",
     "output_type": "stream",
     "text": [
      "Best parameters:\n",
      " Sigma=0.7985775569916307, \n",
      " Accuracy: 90.0\n"
     ]
    }
   ],
   "source": [
    "# Tuning Hyper-parameters\n",
    "\n",
    "# Parameters to Tune\n",
    "search_space = [\n",
    "    Real(1e-2, 1, name='sigma'),\n",
    "]\n",
    "\n",
    "@use_named_args(search_space)\n",
    "def objective_function(**params):\n",
    "    sigma = params['sigma']\n",
    "    # Initialize Model\n",
    "    pk = PerceptronKernelized()\n",
    "\n",
    "    accuracies = []\n",
    "    # k-fold\n",
    "    for train, validate in fold_indx:\n",
    "        x_train_fold, y_train_fold = x_train[train], y[train]\n",
    "        x_validate_fold, y_validate_fold = x_train[validate], y[validate]\n",
    "        # Scaling data\n",
    "        x_train_scaled_fold, x_validate_scaled_fold = z_score(x_train_fold, x_validate_fold)\n",
    "\n",
    "        # Train Model and Predict\n",
    "        y_pred_guassian = pp_model.fit_predict_guassian(x_train_scaled_fold, y_train_fold, x_validate_scaled_fold, sigma)\n",
    "        # Accuracy\n",
    "        accuracies.append(accuracy(y_validate_fold, y_pred_guassian))\n",
    "\n",
    "    # Average of k-fold Accuracies\n",
    "    score = sum(accuracies) / k\n",
    "    return -score\n",
    "\n",
    "result = gp_minimize(objective_function, search_space, n_calls=10, random_state=42)\n",
    "\n",
    "print(f'Best parameters:\\n Sigma={result.x[0]}, \\n Accuracy: {-result.fun}')"
   ]
  },
  {
   "cell_type": "code",
   "execution_count": 313,
   "id": "d7c9808b-66a0-419b-9687-86f4c62abb72",
   "metadata": {},
   "outputs": [
    {
     "data": {
      "text/plain": [
       "91.93333333333334"
      ]
     },
     "execution_count": 313,
     "metadata": {},
     "output_type": "execute_result"
    }
   ],
   "source": [
    "# Initializing Model with tuned parameters\n",
    "pp_model = PerceptronKernelized()\n",
    "\n",
    "# Train Model and Predict\n",
    "y_pred_poly = pp_model.fit_predict_polynomial(x_train_scaled, y_train, x_test_scaled, result.x[0])\n",
    "\n",
    "# Accuracy\n",
    "accuracy(y_test, y_pred_poly)"
   ]
  },
  {
   "cell_type": "markdown",
   "id": "2ac92c5c-34c7-4067-b05d-eaa71120371e",
   "metadata": {},
   "source": [
    "### Kernelized SVM"
   ]
  },
  {
   "cell_type": "code",
   "execution_count": 200,
   "id": "dbfdaa1d-6857-47a7-8091-4d2a6376a884",
   "metadata": {},
   "outputs": [],
   "source": [
    "class SVMKernelized():\n",
    "    def __init__(self, n_iters=1000):\n",
    "        self.n_iters = n_iters\n",
    "\n",
    "    def polynomial_kernel(self, x1, x2, d=2, c=1):\n",
    "        return (x1 @ x2 + c) ** d\n",
    "    \n",
    "    def guassian_kernel(self, x1, x2, sigma=1):\n",
    "        return np.exp((-np.linalg.norm(x1 - x2) ** 2) / (2 * sigma ** 2))\n",
    "\n",
    "    def fit_predict_polynomial(self, X, y, x_test, d):\n",
    "        n_samples, n_features = X.shape\n",
    "        self.S = []\n",
    "\n",
    "        # Traininig\n",
    "        for t in range(1, self.n_iters+1):\n",
    "            i = random.randint(0, n_samples-1)\n",
    "            pred = np.sign(sum(y[j] * self.polynomial_kernel(X[j], X[i], d) for j in self.S))\n",
    "            if y[i] != pred:\n",
    "                self.S.append(i)\n",
    "\n",
    "        # Predict\n",
    "        predict = []        \n",
    "        for x in x_test:\n",
    "            ans = np.sign(sum(y[j] * self.polynomial_kernel(X[j], x, d) for j in self.S))\n",
    "            predict.append(ans)\n",
    "\n",
    "        return predict\n",
    "\n",
    "\n",
    "    def fit_predict_guassian(self, X, y, x_test, sigma):\n",
    "        n_samples, n_features = X.shape\n",
    "        self.S = []\n",
    "\n",
    "        # Training\n",
    "        for t in range(1, self.n_iters+1):\n",
    "            i = random.randint(0, n_samples-1)\n",
    "            pred = np.sign(sum(y[j] * self.guassian_kernel(X[j], X[i], sigma) for j in self.S))\n",
    "            if y[i] != pred:\n",
    "                self.S.append(i)\n",
    "\n",
    "        # Predict\n",
    "        predict = []        \n",
    "        for x in x_test:\n",
    "            ans = np.sign(sum(y[j] * self.guassian_kernel(X[j], x, sigma) for j in self.S))\n",
    "            predict.append(ans)\n",
    "\n",
    "        return predict       "
   ]
  },
  {
   "cell_type": "code",
   "execution_count": 274,
   "id": "94acc290-eb3e-44e4-8129-6ea63cf3c4b1",
   "metadata": {
    "scrolled": true
   },
   "outputs": [
    {
     "name": "stderr",
     "output_type": "stream",
     "text": [
      "C:\\Users\\Asus\\AppData\\Local\\Programs\\Python\\Python312\\Lib\\site-packages\\skopt\\optimizer\\optimizer.py:517: UserWarning: The objective has been evaluated at point [2, 6000] before, using random point [2, 3560]\n",
      "  warnings.warn(\n",
      "C:\\Users\\Asus\\AppData\\Local\\Programs\\Python\\Python312\\Lib\\site-packages\\skopt\\optimizer\\optimizer.py:517: UserWarning: The objective has been evaluated at point [2, 6000] before, using random point [4, 4030]\n",
      "  warnings.warn(\n",
      "C:\\Users\\Asus\\AppData\\Local\\Programs\\Python\\Python312\\Lib\\site-packages\\skopt\\optimizer\\optimizer.py:517: UserWarning: The objective has been evaluated at point [2, 6000] before, using random point [3, 4120]\n",
      "  warnings.warn(\n",
      "C:\\Users\\Asus\\AppData\\Local\\Programs\\Python\\Python312\\Lib\\site-packages\\skopt\\optimizer\\optimizer.py:517: UserWarning: The objective has been evaluated at point [2, 6000] before, using random point [3, 5834]\n",
      "  warnings.warn(\n",
      "C:\\Users\\Asus\\AppData\\Local\\Programs\\Python\\Python312\\Lib\\site-packages\\skopt\\optimizer\\optimizer.py:517: UserWarning: The objective has been evaluated at point [2, 6000] before, using random point [3, 4465]\n",
      "  warnings.warn(\n",
      "C:\\Users\\Asus\\AppData\\Local\\Programs\\Python\\Python312\\Lib\\site-packages\\skopt\\optimizer\\optimizer.py:517: UserWarning: The objective has been evaluated at point [2, 6000] before, using random point [3, 4379]\n",
      "  warnings.warn(\n",
      "C:\\Users\\Asus\\AppData\\Local\\Programs\\Python\\Python312\\Lib\\site-packages\\skopt\\optimizer\\optimizer.py:517: UserWarning: The objective has been evaluated at point [2, 6000] before, using random point [3, 5145]\n",
      "  warnings.warn(\n",
      "C:\\Users\\Asus\\AppData\\Local\\Programs\\Python\\Python312\\Lib\\site-packages\\skopt\\optimizer\\optimizer.py:517: UserWarning: The objective has been evaluated at point [2, 6000] before, using random point [2, 4954]\n",
      "  warnings.warn(\n",
      "C:\\Users\\Asus\\AppData\\Local\\Programs\\Python\\Python312\\Lib\\site-packages\\skopt\\optimizer\\optimizer.py:517: UserWarning: The objective has been evaluated at point [2, 6000] before, using random point [3, 3484]\n",
      "  warnings.warn(\n",
      "C:\\Users\\Asus\\AppData\\Local\\Programs\\Python\\Python312\\Lib\\site-packages\\skopt\\optimizer\\optimizer.py:517: UserWarning: The objective has been evaluated at point [2, 6000] before, using random point [4, 4138]\n",
      "  warnings.warn(\n",
      "C:\\Users\\Asus\\AppData\\Local\\Programs\\Python\\Python312\\Lib\\site-packages\\skopt\\optimizer\\optimizer.py:517: UserWarning: The objective has been evaluated at point [2, 6000] before, using random point [3, 5586]\n",
      "  warnings.warn(\n",
      "C:\\Users\\Asus\\AppData\\Local\\Programs\\Python\\Python312\\Lib\\site-packages\\skopt\\optimizer\\optimizer.py:517: UserWarning: The objective has been evaluated at point [2, 6000] before, using random point [3, 5367]\n",
      "  warnings.warn(\n"
     ]
    },
    {
     "name": "stdout",
     "output_type": "stream",
     "text": [
      "Best parameters:\n",
      " Degree=2, Iterations=6000\n",
      " Accuracy: 90.90588235294118\n"
     ]
    }
   ],
   "source": [
    "# Tuning Hyper-parameters\n",
    "\n",
    "# Parameters to Tune\n",
    "search_space = [\n",
    "    Integer(2, 4, name='degree'),\n",
    "    Integer(3000, 6000, name='n_iters'),\n",
    "]\n",
    "\n",
    "@use_named_args(search_space)\n",
    "def objective_function(**params):\n",
    "    degree, n_iters = params['degree'], params['n_iters']\n",
    "\n",
    "    # Initialize Model\n",
    "    svmk = SVMKernelized(n_iters)\n",
    "\n",
    "    accuracies = []\n",
    "    # k-fold\n",
    "    for train, validate in fold_indx:\n",
    "        x_train_fold, y_train_fold = x_train[train], y[train]\n",
    "        x_validate_fold, y_validate_fold = x_train[validate], y[validate]\n",
    "        # Scaling data\n",
    "        x_train_scaled_fold, x_validate_scaled_fold = z_score(x_train_fold, x_validate_fold)\n",
    "\n",
    "        # Train Model and Predict\n",
    "        y_pred_polynomial = svmk.fit_predict_polynomial(x_train_scaled_fold, y_train_fold, x_validate_scaled_fold, degree)\n",
    "        # Accuracy\n",
    "        accuracies.append(accuracy(y_validate_fold, y_pred_polynomial))\n",
    "\n",
    "    # Average of k-fold Accuracies\n",
    "    score = sum(accuracies) / k\n",
    "    return -score\n",
    "\n",
    "result = gp_minimize(objective_function, search_space, n_calls=25, random_state=42)\n",
    "\n",
    "print(f'Best parameters:\\n Degree={result.x[0]}, Iterations={result.x[1]}\\n Accuracy: {-result.fun}')"
   ]
  },
  {
   "cell_type": "code",
   "execution_count": 275,
   "id": "3d31bb3e-951f-4706-adb1-33e2cf8dab78",
   "metadata": {},
   "outputs": [
    {
     "data": {
      "text/plain": [
       "90.86666666666666"
      ]
     },
     "execution_count": 275,
     "metadata": {},
     "output_type": "execute_result"
    }
   ],
   "source": [
    "# Initializing Model with tuned parameters\n",
    "sk_model = SVMKernelized(n_iters=result.x[1])\n",
    "\n",
    "x_train_scaled, x_test_scaled = z_score(x_train, x_test)\n",
    "\n",
    "# Train Model and Predict \n",
    "y_pred_polynomial = sk_model.fit_predict_polynomial(x_train_scaled, y_train, x_test_scaled, result.x[0])\n",
    "\n",
    "# Accuracy\n",
    "accuracy(y_test, y_pred_polynomial)"
   ]
  },
  {
   "cell_type": "code",
   "execution_count": 281,
   "id": "76565649-ec2c-41a3-9ea5-4ce6bd58c1bf",
   "metadata": {},
   "outputs": [
    {
     "name": "stdout",
     "output_type": "stream",
     "text": [
      "Best parameters:\n",
      " sigma=0.9905423544993747, Iterations=5340\n",
      " Accuracy: 89.4\n"
     ]
    }
   ],
   "source": [
    "# Tuning Hyper-parameters\n",
    "\n",
    "# Parameters to Tune\n",
    "search_space = [\n",
    "    Real(1e-2, 1, name='sigma'),\n",
    "    Integer(4000, 6000, name='n_iters'),\n",
    "]\n",
    "\n",
    "@use_named_args(search_space)\n",
    "def objective_function(**params):\n",
    "    sigma, n_iters = params['sigma'], params['n_iters']\n",
    "    \n",
    "    # Initialize Model\n",
    "    svmk = SVMKernelized(n_iters)\n",
    "\n",
    "    accuracies = []\n",
    "    # k-fold\n",
    "    for train, validate in fold_indx:\n",
    "        x_train_fold, y_train_fold = x_train[train], y[train]\n",
    "        x_validate_fold, y_validate_fold = x_train[validate], y[validate]\n",
    "        # Scaling data\n",
    "        x_train_scaled_fold, x_validate_scaled_fold = z_score(x_train_fold, x_validate_fold)\n",
    "\n",
    "        # Train Model and Predict\n",
    "        y_pred_guassian = sk_model.fit_predict_guassian(x_train_scaled_fold, y_train_fold, x_validate_scaled_fold, sigma)\n",
    "        # Accuracy\n",
    "        accuracies.append(accuracy(y_validate_fold, y_pred_guassian))\n",
    "\n",
    "    # Average of k-fold Accuracies\n",
    "    score = sum(accuracies) / k\n",
    "    return -score\n",
    "\n",
    "result = gp_minimize(objective_function, search_space, n_calls=20, random_state=42)\n",
    "\n",
    "print(f'Best parameters:\\n sigma={result.x[0]}, Iterations={result.x[1]}\\n Accuracy: {-result.fun}')"
   ]
  },
  {
   "cell_type": "code",
   "execution_count": 283,
   "id": "c39c33b3-176a-453c-9a28-bac1806a32cb",
   "metadata": {},
   "outputs": [
    {
     "data": {
      "text/plain": [
       "88.0"
      ]
     },
     "execution_count": 283,
     "metadata": {},
     "output_type": "execute_result"
    }
   ],
   "source": [
    "# Initializing Model with tuned parameters\n",
    "sk_model = SVMKernelized(n_iters=result.x[1])\n",
    "\n",
    "# Train Model and Predict \n",
    "y_pred_guassian = sk_model.fit_predict_guassian(x_train_scaled, y_train, x_test_scaled, result.x[0])\n",
    "\n",
    "# Accuracy\n",
    "accuracy(y_test, y_pred_guassian)"
   ]
  }
 ],
 "metadata": {
  "kernelspec": {
   "display_name": "Python 3 (ipykernel)",
   "language": "python",
   "name": "python3"
  },
  "language_info": {
   "codemirror_mode": {
    "name": "ipython",
    "version": 3
   },
   "file_extension": ".py",
   "mimetype": "text/x-python",
   "name": "python",
   "nbconvert_exporter": "python",
   "pygments_lexer": "ipython3",
   "version": "3.12.2"
  }
 },
 "nbformat": 4,
 "nbformat_minor": 5
}
