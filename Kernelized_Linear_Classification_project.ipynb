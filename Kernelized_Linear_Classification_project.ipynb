{
 "cells": [
  {
   "cell_type": "markdown",
   "id": "5ca3b637-bad6-491b-81d0-b0bb45c76623",
   "metadata": {},
   "source": [
    "# Kernelized Linear Classification Project"
   ]
  },
  {
   "cell_type": "markdown",
   "id": "741f366e-0fb7-4198-a0ca-c959ca121c31",
   "metadata": {},
   "source": [
    "## Importing Data"
   ]
  },
  {
   "cell_type": "code",
   "execution_count": 1,
   "id": "26fcb714-ba15-4d5b-a71c-785c59653e85",
   "metadata": {},
   "outputs": [],
   "source": [
    "import pandas as pd\n",
    "import numpy as np\n",
    "import matplotlib.pyplot as plt\n",
    "import random\n",
    "from math import exp"
   ]
  },
  {
   "cell_type": "code",
   "execution_count": 2,
   "id": "1ee78f76-dcac-499e-bc09-22725f330acb",
   "metadata": {},
   "outputs": [
    {
     "data": {
      "text/html": [
       "<div>\n",
       "<style scoped>\n",
       "    .dataframe tbody tr th:only-of-type {\n",
       "        vertical-align: middle;\n",
       "    }\n",
       "\n",
       "    .dataframe tbody tr th {\n",
       "        vertical-align: top;\n",
       "    }\n",
       "\n",
       "    .dataframe thead th {\n",
       "        text-align: right;\n",
       "    }\n",
       "</style>\n",
       "<table border=\"1\" class=\"dataframe\">\n",
       "  <thead>\n",
       "    <tr style=\"text-align: right;\">\n",
       "      <th></th>\n",
       "      <th>x1</th>\n",
       "      <th>x2</th>\n",
       "      <th>x3</th>\n",
       "      <th>x4</th>\n",
       "      <th>x5</th>\n",
       "      <th>x6</th>\n",
       "      <th>x7</th>\n",
       "      <th>x8</th>\n",
       "      <th>x9</th>\n",
       "      <th>x10</th>\n",
       "      <th>y</th>\n",
       "    </tr>\n",
       "  </thead>\n",
       "  <tbody>\n",
       "    <tr>\n",
       "      <th>0</th>\n",
       "      <td>1.205492</td>\n",
       "      <td>5.823226</td>\n",
       "      <td>98.837539</td>\n",
       "      <td>-1.075852</td>\n",
       "      <td>0.999205</td>\n",
       "      <td>0.911543</td>\n",
       "      <td>3.623558</td>\n",
       "      <td>-1.720267</td>\n",
       "      <td>-0.346191</td>\n",
       "      <td>-54.708330</td>\n",
       "      <td>-1</td>\n",
       "    </tr>\n",
       "    <tr>\n",
       "      <th>1</th>\n",
       "      <td>1.391530</td>\n",
       "      <td>3.611581</td>\n",
       "      <td>98.857197</td>\n",
       "      <td>-5.020318</td>\n",
       "      <td>0.677165</td>\n",
       "      <td>0.999492</td>\n",
       "      <td>3.413112</td>\n",
       "      <td>4.253865</td>\n",
       "      <td>2.041603</td>\n",
       "      <td>-54.317291</td>\n",
       "      <td>1</td>\n",
       "    </tr>\n",
       "    <tr>\n",
       "      <th>2</th>\n",
       "      <td>1.692571</td>\n",
       "      <td>-0.887019</td>\n",
       "      <td>100.901276</td>\n",
       "      <td>-0.595548</td>\n",
       "      <td>0.177550</td>\n",
       "      <td>-0.915495</td>\n",
       "      <td>4.320264</td>\n",
       "      <td>0.907834</td>\n",
       "      <td>3.126815</td>\n",
       "      <td>-56.397484</td>\n",
       "      <td>-1</td>\n",
       "    </tr>\n",
       "    <tr>\n",
       "      <th>3</th>\n",
       "      <td>4.289320</td>\n",
       "      <td>1.416843</td>\n",
       "      <td>100.784735</td>\n",
       "      <td>-2.897154</td>\n",
       "      <td>-0.066972</td>\n",
       "      <td>-0.786173</td>\n",
       "      <td>2.093003</td>\n",
       "      <td>1.336237</td>\n",
       "      <td>2.183829</td>\n",
       "      <td>-56.197728</td>\n",
       "      <td>1</td>\n",
       "    </tr>\n",
       "    <tr>\n",
       "      <th>4</th>\n",
       "      <td>0.542420</td>\n",
       "      <td>-1.010095</td>\n",
       "      <td>100.015580</td>\n",
       "      <td>-3.070705</td>\n",
       "      <td>0.088324</td>\n",
       "      <td>-0.242669</td>\n",
       "      <td>0.767942</td>\n",
       "      <td>-0.284683</td>\n",
       "      <td>-2.104145</td>\n",
       "      <td>-55.794045</td>\n",
       "      <td>1</td>\n",
       "    </tr>\n",
       "    <tr>\n",
       "      <th>...</th>\n",
       "      <td>...</td>\n",
       "      <td>...</td>\n",
       "      <td>...</td>\n",
       "      <td>...</td>\n",
       "      <td>...</td>\n",
       "      <td>...</td>\n",
       "      <td>...</td>\n",
       "      <td>...</td>\n",
       "      <td>...</td>\n",
       "      <td>...</td>\n",
       "      <td>...</td>\n",
       "    </tr>\n",
       "    <tr>\n",
       "      <th>9995</th>\n",
       "      <td>0.481134</td>\n",
       "      <td>-0.572225</td>\n",
       "      <td>99.274788</td>\n",
       "      <td>-0.868047</td>\n",
       "      <td>-0.663229</td>\n",
       "      <td>0.572447</td>\n",
       "      <td>5.163238</td>\n",
       "      <td>1.765743</td>\n",
       "      <td>0.720265</td>\n",
       "      <td>-54.952233</td>\n",
       "      <td>-1</td>\n",
       "    </tr>\n",
       "    <tr>\n",
       "      <th>9996</th>\n",
       "      <td>0.047373</td>\n",
       "      <td>0.990198</td>\n",
       "      <td>100.444834</td>\n",
       "      <td>-0.707179</td>\n",
       "      <td>0.912113</td>\n",
       "      <td>-0.510397</td>\n",
       "      <td>1.128577</td>\n",
       "      <td>0.116130</td>\n",
       "      <td>-2.559018</td>\n",
       "      <td>-56.008656</td>\n",
       "      <td>-1</td>\n",
       "    </tr>\n",
       "    <tr>\n",
       "      <th>9997</th>\n",
       "      <td>1.741933</td>\n",
       "      <td>0.036304</td>\n",
       "      <td>100.524071</td>\n",
       "      <td>-0.113742</td>\n",
       "      <td>-0.761337</td>\n",
       "      <td>-0.728295</td>\n",
       "      <td>-1.334732</td>\n",
       "      <td>-1.312760</td>\n",
       "      <td>-0.442573</td>\n",
       "      <td>-56.170876</td>\n",
       "      <td>-1</td>\n",
       "    </tr>\n",
       "    <tr>\n",
       "      <th>9998</th>\n",
       "      <td>2.574986</td>\n",
       "      <td>0.041442</td>\n",
       "      <td>98.983735</td>\n",
       "      <td>-1.937883</td>\n",
       "      <td>0.983004</td>\n",
       "      <td>0.798133</td>\n",
       "      <td>5.847342</td>\n",
       "      <td>0.904038</td>\n",
       "      <td>-1.695064</td>\n",
       "      <td>-54.820699</td>\n",
       "      <td>1</td>\n",
       "    </tr>\n",
       "    <tr>\n",
       "      <th>9999</th>\n",
       "      <td>0.123523</td>\n",
       "      <td>-1.518412</td>\n",
       "      <td>99.159300</td>\n",
       "      <td>-2.024888</td>\n",
       "      <td>0.785601</td>\n",
       "      <td>0.745629</td>\n",
       "      <td>-0.457173</td>\n",
       "      <td>0.408771</td>\n",
       "      <td>-2.163518</td>\n",
       "      <td>-54.806434</td>\n",
       "      <td>1</td>\n",
       "    </tr>\n",
       "  </tbody>\n",
       "</table>\n",
       "<p>10000 rows × 11 columns</p>\n",
       "</div>"
      ],
      "text/plain": [
       "            x1        x2          x3        x4        x5        x6        x7  \\\n",
       "0     1.205492  5.823226   98.837539 -1.075852  0.999205  0.911543  3.623558   \n",
       "1     1.391530  3.611581   98.857197 -5.020318  0.677165  0.999492  3.413112   \n",
       "2     1.692571 -0.887019  100.901276 -0.595548  0.177550 -0.915495  4.320264   \n",
       "3     4.289320  1.416843  100.784735 -2.897154 -0.066972 -0.786173  2.093003   \n",
       "4     0.542420 -1.010095  100.015580 -3.070705  0.088324 -0.242669  0.767942   \n",
       "...        ...       ...         ...       ...       ...       ...       ...   \n",
       "9995  0.481134 -0.572225   99.274788 -0.868047 -0.663229  0.572447  5.163238   \n",
       "9996  0.047373  0.990198  100.444834 -0.707179  0.912113 -0.510397  1.128577   \n",
       "9997  1.741933  0.036304  100.524071 -0.113742 -0.761337 -0.728295 -1.334732   \n",
       "9998  2.574986  0.041442   98.983735 -1.937883  0.983004  0.798133  5.847342   \n",
       "9999  0.123523 -1.518412   99.159300 -2.024888  0.785601  0.745629 -0.457173   \n",
       "\n",
       "            x8        x9        x10  y  \n",
       "0    -1.720267 -0.346191 -54.708330 -1  \n",
       "1     4.253865  2.041603 -54.317291  1  \n",
       "2     0.907834  3.126815 -56.397484 -1  \n",
       "3     1.336237  2.183829 -56.197728  1  \n",
       "4    -0.284683 -2.104145 -55.794045  1  \n",
       "...        ...       ...        ... ..  \n",
       "9995  1.765743  0.720265 -54.952233 -1  \n",
       "9996  0.116130 -2.559018 -56.008656 -1  \n",
       "9997 -1.312760 -0.442573 -56.170876 -1  \n",
       "9998  0.904038 -1.695064 -54.820699  1  \n",
       "9999  0.408771 -2.163518 -54.806434  1  \n",
       "\n",
       "[10000 rows x 11 columns]"
      ]
     },
     "execution_count": 2,
     "metadata": {},
     "output_type": "execute_result"
    }
   ],
   "source": [
    "dataset_pd = pd.read_csv('your_dataset.csv')\n",
    "dataset = dataset_pd.to_numpy()\n",
    "dataset_pd"
   ]
  },
  {
   "cell_type": "code",
   "execution_count": 3,
   "id": "0fdb0179-c149-4444-a3c5-cc8edf6b4139",
   "metadata": {},
   "outputs": [
    {
     "name": "stdout",
     "output_type": "stream",
     "text": [
      "Distribution of the binary class in the dataset:\n",
      " 1: 4992 , -1: 5008\n"
     ]
    }
   ],
   "source": [
    "class1 = np.count_nonzero(dataset == 1)\n",
    "class2 = np.count_nonzero(dataset == -1)\n",
    "print(f'Distribution of the binary class in the dataset:\\n 1: {class1} , -1: {class2}')"
   ]
  },
  {
   "cell_type": "code",
   "execution_count": 4,
   "id": "cba0f7fe-dadf-4040-a99b-3b49023852a4",
   "metadata": {},
   "outputs": [
    {
     "data": {
      "image/png": "[encoded data removed]",
      "text/plain": [
       "<Figure size 2000x1500 with 12 Axes>"
      ]
     },
     "metadata": {},
     "output_type": "display_data"
    }
   ],
   "source": [
    "# Histogram of Features\n",
    "dataset_pd.iloc[:, :-1].hist(bins=60, figsize=(20, 15))\n",
    "plt.show()"
   ]
  },
  {
   "cell_type": "markdown",
   "id": "d007f09f-f28f-42a8-9a58-6a894707b48c",
   "metadata": {},
   "source": [
    "## Preprocessing"
   ]
  },
  {
   "cell_type": "code",
   "execution_count": 5,
   "id": "798e3b69-3276-4cef-b8e8-a7af33bca670",
   "metadata": {},
   "outputs": [
    {
     "name": "stdout",
     "output_type": "stream",
     "text": [
      "X: 10000 samples and 10 features, y: 10000 labels\n"
     ]
    }
   ],
   "source": [
    "# Seperating data points and labels\n",
    "X = np.array([x[:-1] for x in dataset])\n",
    "y = np.array([int(x[-1]) for x in dataset])\n",
    "\n",
    "print(f'X: {X.shape[0]} samples and {X.shape[1]} features, y: {y.shape[0]} labels')"
   ]
  },
  {
   "cell_type": "code",
   "execution_count": 6,
   "id": "299409ff-d473-40a5-9c52-533c1934cb37",
   "metadata": {},
   "outputs": [
    {
     "data": {
      "text/plain": [
       "((7500, 10), (2500, 10), (7500,), (2500,))"
      ]
     },
     "execution_count": 6,
     "metadata": {},
     "output_type": "execute_result"
    }
   ],
   "source": [
    "# Split data points and label to training and test categories\n",
    "def data_split(X, y, train_size=0.75):\n",
    "    x_train = X[:int(train_size * len(X))]\n",
    "    x_test = X[int(train_size * len(X)):]\n",
    "    y_train = y[:int(train_size * len(y))]\n",
    "    y_test = y[int(train_size * len(y)):]\n",
    "\n",
    "    return x_train, x_test, y_train, y_test\n",
    "\n",
    "# split data set to train and test samples\n",
    "x_train, x_test, y_train, y_test = data_split(X, y, train_size=0.75)\n",
    "\n",
    "x_train.shape, x_test.shape, y_train.shape, y_test.shape "
   ]
  },
  {
   "cell_type": "markdown",
   "id": "41aed906-1af3-4118-8848-41745e1110b1",
   "metadata": {},
   "source": [
    "### Scaling Methods"
   ]
  },
  {
   "cell_type": "code",
   "execution_count": 7,
   "id": "48c13a12-54c9-4b34-a1dd-5b44237af724",
   "metadata": {},
   "outputs": [],
   "source": [
    "def z_score(set_train, set_test):\n",
    "    mean = np.mean(set_train, axis=0)\n",
    "    std = np.std(set_train, axis=0)\n",
    "    z_train = (set_train - mean) / std\n",
    "    z_test = (set_test - mean) / std # scale test set with mean and standard deviation from training set\n",
    "    return z_train, z_test\n",
    "\n",
    "def min_max(set_train, set_test):\n",
    "    minimum = np.min(set_train, axis=0)\n",
    "    maximum = np.max(set_train, axis=0)\n",
    "    return (set_train - minimum) / (maximum - minimum), (set_test - minimum) / (maximum - minimum) \n",
    "    "
   ]
  },
  {
   "cell_type": "code",
   "execution_count": 8,
   "id": "46883d91-a126-4c3e-94b1-a7489f45f03b",
   "metadata": {},
   "outputs": [],
   "source": [
    "# Scale data\n",
    "x_train_scaled, x_test_scaled = z_score(x_train, x_test)"
   ]
  },
  {
   "cell_type": "markdown",
   "id": "deb5f63a-7a86-4cc0-b62b-ba5f3aba796c",
   "metadata": {},
   "source": [
    "## Testing"
   ]
  },
  {
   "cell_type": "markdown",
   "id": "d95e5cab-6068-40db-8a71-f47e98391e1d",
   "metadata": {},
   "source": [
    "### Accuracy"
   ]
  },
  {
   "cell_type": "code",
   "execution_count": 9,
   "id": "6ae45523-608d-42f1-b265-0cbc4c4c99c5",
   "metadata": {},
   "outputs": [],
   "source": [
    "def accuracy(y_test, y_pred):\n",
    "    T = 0\n",
    "    for i in range(len(y_test)):\n",
    "        if y_test[i] == y_pred[i]:\n",
    "            T += 1\n",
    "\n",
    "    return 100 * T / len(y_test)"
   ]
  },
  {
   "cell_type": "markdown",
   "id": "f42ce6fb-3ddc-4a9a-9c1a-f894e45974f8",
   "metadata": {},
   "source": [
    "### Cross validation (K-fold)"
   ]
  },
  {
   "cell_type": "code",
   "execution_count": 10,
   "id": "0312d5e7-b6ef-4c0d-a3bf-459f49275ae3",
   "metadata": {},
   "outputs": [
    {
     "data": {
      "text/plain": [
       "[[array([2000, 2001, 2002, ..., 9997, 9998, 9999]),\n",
       "  array([   0,    1,    2, ..., 1997, 1998, 1999])],\n",
       " [array([   0,    1,    2, ..., 9997, 9998, 9999]),\n",
       "  array([2000, 2001, 2002, ..., 3997, 3998, 3999])],\n",
       " [array([   0,    1,    2, ..., 9997, 9998, 9999]),\n",
       "  array([4000, 4001, 4002, ..., 5997, 5998, 5999])],\n",
       " [array([   0,    1,    2, ..., 9997, 9998, 9999]),\n",
       "  array([6000, 6001, 6002, ..., 7997, 7998, 7999])],\n",
       " [array([   0,    1,    2, ..., 7997, 7998, 7999]),\n",
       "  array([8000, 8001, 8002, ..., 9997, 9998, 9999])]]"
      ]
     },
     "execution_count": 10,
     "metadata": {},
     "output_type": "execute_result"
    }
   ],
   "source": [
    "def k_fold(data, k=5):\n",
    "    fold_size = len(data) // 5\n",
    "    indx = np.arange(len(data))\n",
    "    folds= []\n",
    "\n",
    "    for i in range(k):\n",
    "        test_indx = indx[i * fold_size : (i+1) * fold_size] \n",
    "        train_indx = np.concatenate([indx[ : i * fold_size], indx[(i+1) * fold_size : ]])\n",
    "        folds.append([train_indx, test_indx])\n",
    "\n",
    "    return folds\n",
    "\n",
    "# Make indicies for k-fold\n",
    "k = 5\n",
    "fold_indx = k_fold(dataset, k)\n",
    "fold_indx"
   ]
  },
  {
   "cell_type": "markdown",
   "id": "f1f67e68-1a70-48e1-96f2-b102ff410b3c",
   "metadata": {},
   "source": [
    "## Learning Algorithms"
   ]
  },
  {
   "cell_type": "markdown",
   "id": "dc2413df-3027-41b8-a024-c5f67f2987cc",
   "metadata": {},
   "source": [
    "### Perceptron Algorithm"
   ]
  },
  {
   "cell_type": "code",
   "execution_count": 11,
   "id": "f2539fb5-a83d-4422-bc59-b3aee40b337d",
   "metadata": {},
   "outputs": [],
   "source": [
    "class Perceptron():\n",
    "    def __init__(self, learn_rate=0.01, n_iters=1000):\n",
    "        self.lr = learn_rate\n",
    "        self.n_iters = n_iters\n",
    "\n",
    "    def fit(self, X, y):\n",
    "        n_samples, n_features = X.shape\n",
    "        \n",
    "        # Initialize weights\n",
    "        self.w = np.zeros(n_features)\n",
    "\n",
    "        # Training\n",
    "        for _ in range(self.n_iters):\n",
    "            for i, x in enumerate(X):\n",
    "                y_predict = self.step(x @ self.w)\n",
    "\n",
    "                # Updating\n",
    "                if y_predict != y[i]:\n",
    "                    self.w += self.lr * y[i] * x\n",
    "\n",
    "    def step(self, x):\n",
    "        return np.where(x > 0, 1, -1)\n",
    "\n",
    "    def predict(self, x):\n",
    "        y_predict = self.step(np.dot(x, self.w))\n",
    "        return np.where(y_predict > 0, 1, -1)\n",
    "    "
   ]
  },
  {
   "cell_type": "code",
   "execution_count": 53,
   "id": "b1a15e3d-d113-445a-9229-b67aca76e1ae",
   "metadata": {},
   "outputs": [
    {
     "data": {
      "text/plain": [
       "68.6"
      ]
     },
     "execution_count": 53,
     "metadata": {},
     "output_type": "execute_result"
    }
   ],
   "source": [
    "# Initialize model\n",
    "p = Perceptron(learn_rate=0.08, n_iters=30)\n",
    "\n",
    "# Train the model\n",
    "p.fit(x_train_scaled, y_train)\n",
    "\n",
    "# Predict \n",
    "y_pred = p.predict(x_test_scaled)\n",
    "\n",
    "# Measure Accuracy\n",
    "accuracy(y_test, y_pred)"
   ]
  },
  {
   "cell_type": "code",
   "execution_count": 58,
   "id": "d2d3b55e-da38-4ad6-a8ab-df7d1d63fc87",
   "metadata": {},
   "outputs": [
    {
     "name": "stdout",
     "output_type": "stream",
     "text": [
      "[68.65, 66.0, 62.1, 63.55, 68.6]\n"
     ]
    },
    {
     "data": {
      "text/plain": [
       "65.78"
      ]
     },
     "execution_count": 58,
     "metadata": {},
     "output_type": "execute_result"
    }
   ],
   "source": [
    "# Cross Validation\n",
    "p = Perceptron(learn_rate=0.1, n_iters=30)\n",
    "\n",
    "accuracies = []\n",
    "\n",
    "for train, test in fold_indx:\n",
    "    x_train, y_train = X[train], y[train]\n",
    "    x_test, y_test = X[test], y[test]\n",
    "    x_train_scaled, x_test_scaled = z_score(x_train, x_test)\n",
    "\n",
    "    p.fit(x_train_scaled, y_train)\n",
    "    y_pred = p.predict(x_test_scaled)\n",
    "    accuracies.append(accuracy(y_test, y_pred))\n",
    "\n",
    "print(accuracies)\n",
    "sum(accuracies) / k"
   ]
  },
  {
   "cell_type": "code",
   "execution_count": 60,
   "id": "4d3b7869-699d-4a22-8e7a-d1e6f7a335a3",
   "metadata": {},
   "outputs": [
    {
     "data": {
      "text/plain": [
       "array([1., 1., 1., 1., 1., 1., 1., 1., 1., 1.])"
      ]
     },
     "execution_count": 60,
     "metadata": {},
     "output_type": "execute_result"
    }
   ],
   "source": [
    "x = 10 * np.random.rand(10)\n",
    "np.ones_like(x)"
   ]
  },
  {
   "cell_type": "code",
   "execution_count": 14,
   "id": "a0ccbd9c-520d-4db3-882b-6ef498026f4d",
   "metadata": {},
   "outputs": [],
   "source": [
    "from sklearn.datasets import make_blobs\n",
    "from sklearn.model_selection import train_test_split\n",
    "np.random.seed(654)"
   ]
  },
  {
   "cell_type": "code",
   "execution_count": 15,
   "id": "d543a22a-d1e0-40b7-b5f7-2b4f5673b9ba",
   "metadata": {},
   "outputs": [
    {
     "data": {
      "image/png": "[encoded data removed]",
      "text/plain": [
       "<Figure size 800x600 with 1 Axes>"
      ]
     },
     "metadata": {},
     "output_type": "display_data"
    }
   ],
   "source": [
    "XX, yy = make_blobs(n_samples=1000, centers=2)\n",
    "yy = np.where(yy > 0, 1, -1)\n",
    "fig = plt.figure(figsize=(8,6))\n",
    "plt.scatter(XX[:,0], XX[:,1], c=yy)\n",
    "plt.title(\"Dataset\")\n",
    "plt.xlabel(\"First feature\")\n",
    "plt.ylabel(\"Second feature\")\n",
    "plt.show()"
   ]
  },
  {
   "cell_type": "code",
   "execution_count": 16,
   "id": "0bdff578-f9b4-4313-9b4a-c4e60d177a0e",
   "metadata": {},
   "outputs": [
    {
     "name": "stdout",
     "output_type": "stream",
     "text": [
      "Shape X_train: (750, 2)\n",
      "Shape y_train: (750, 1))\n",
      "Shape X_test: (250, 2)\n",
      "Shape y_test: (250, 1)\n"
     ]
    }
   ],
   "source": [
    "y_true = yy[:, np.newaxis]\n",
    "\n",
    "X_train, X_test, y_train, y_test = data_split(XX, y_true)\n",
    "print(f'Shape X_train: {X_train.shape}')\n",
    "print(f'Shape y_train: {y_train.shape})')\n",
    "print(f'Shape X_test: {X_test.shape}')\n",
    "print(f'Shape y_test: {y_test.shape}')"
   ]
  },
  {
   "cell_type": "code",
   "execution_count": 17,
   "id": "ea37ed6b-5288-44cf-8a36-ce1d405d44bb",
   "metadata": {},
   "outputs": [
    {
     "ename": "TypeError",
     "evalue": "cannot unpack non-iterable NoneType object",
     "output_type": "error",
     "traceback": [
      "\u001b[1;31m---------------------------------------------------------------------\u001b[0m",
      "\u001b[1;31mTypeError\u001b[0m                           Traceback (most recent call last)",
      "Cell \u001b[1;32mIn[17], line 6\u001b[0m\n\u001b[0;32m      3\u001b[0m x_train_scaled, x_test_scaled \u001b[38;5;241m=\u001b[39m z_score(X_train, X_test)\n\u001b[0;32m      5\u001b[0m \u001b[38;5;66;03m# Train the model\u001b[39;00m\n\u001b[1;32m----> 6\u001b[0m w, b \u001b[38;5;241m=\u001b[39m p_test\u001b[38;5;241m.\u001b[39mfit(X_train, y_train)\n\u001b[0;32m      8\u001b[0m \u001b[38;5;66;03m# predict \u001b[39;00m\n\u001b[0;32m      9\u001b[0m y_pred \u001b[38;5;241m=\u001b[39m p_test\u001b[38;5;241m.\u001b[39mpredict(X_test)\n",
      "\u001b[1;31mTypeError\u001b[0m: cannot unpack non-iterable NoneType object"
     ]
    }
   ],
   "source": [
    "p_test = Perceptron(n_iters=100)\n",
    "\n",
    "x_train_scaled, x_test_scaled = z_score(X_train, X_test)\n",
    "\n",
    "# Train the model\n",
    "w, b = p_test.fit(X_train, y_train)\n",
    "\n",
    "# predict \n",
    "y_pred = p_test.predict(X_test)\n",
    "\n",
    "# Accuracy\n",
    "accuracy(y_test, y_pred)"
   ]
  },
  {
   "cell_type": "code",
   "execution_count": null,
   "id": "c6cd774b-efb1-4d2e-9e53-dd79b2432ebb",
   "metadata": {},
   "outputs": [],
   "source": [
    "def plot_hyperplane(X, y, weights, bias):\n",
    "    \"\"\"\n",
    "    Plots the dataset and the estimated decision hyperplane\n",
    "    \"\"\"\n",
    "    slope = - weights[0]/weights[1]\n",
    "    intercept = - bias/weights[1]\n",
    "    x_hyperplane = np.linspace(-10,14,10)\n",
    "    y_hyperplane = slope * x_hyperplane + intercept\n",
    "    fig = plt.figure(figsize=(8,6))\n",
    "    plt.scatter(X[:,0], X[:,1], c=y)\n",
    "    plt.plot(x_hyperplane, y_hyperplane, '-')\n",
    "    plt.title(\"Dataset and fitted decision hyperplane\")\n",
    "    plt.xlabel(\"First feature\")\n",
    "    plt.ylabel(\"Second feature\")\n",
    "    plt.xlim(-5, 10)\n",
    "    plt.ylim(-13, 5)\n",
    "    plt.show()\n",
    "\n",
    "plot_hyperplane(XX, yy, w, b)"
   ]
  },
  {
   "cell_type": "markdown",
   "id": "e365e00a-30e8-45c6-b382-94f190bb2908",
   "metadata": {},
   "source": [
    "### Support Vector Machines (SVMs) using the Pegasos Algorithm "
   ]
  },
  {
   "cell_type": "code",
   "execution_count": 18,
   "id": "9fb4e74c-3483-4b60-818d-dc9974f1e230",
   "metadata": {},
   "outputs": [],
   "source": [
    "class SVMPegasos():\n",
    "    def __init__(self, lambda_param=0.01, n_iters=1000):\n",
    "        self.lambda_param = lambda_param\n",
    "        self.n_iters = n_iters\n",
    "\n",
    "    def fit(self, X, y):\n",
    "        n_samples, n_features = X.shape\n",
    "\n",
    "        # Initialize weights\n",
    "        self.w = np.zeros(n_features)\n",
    "        self.weight = np.zeros(n_features)\n",
    "\n",
    "        # Training\n",
    "        for t in range(1, self.n_iters + 1):\n",
    "            eta = 1 / (self.lambda_param * t)\n",
    "            i = random.randint(0, n_samples - 1)\n",
    "\n",
    "            # Updating\n",
    "            if y[i] * X[i] @ self.w < 1:\n",
    "                self.w = (1 - 1/t) * self.w + (eta * y[i] * X[i])\n",
    "                self.weight += self.w\n",
    "            else:\n",
    "                self.w = (1 - 1/t) * self.w\n",
    "                self.weight += self.w\n",
    "\n",
    "    def predict(self, x):\n",
    "        weight = self.weight / self.n_iters\n",
    "        return np.sign(x @ weight )\n",
    "            "
   ]
  },
  {
   "cell_type": "code",
   "execution_count": 19,
   "id": "1a42af16-9d17-48d7-878c-f4f4b17ab9c9",
   "metadata": {},
   "outputs": [
    {
     "data": {
      "text/plain": [
       "95.6"
      ]
     },
     "execution_count": 19,
     "metadata": {},
     "output_type": "execute_result"
    }
   ],
   "source": [
    "# Initialize model\n",
    "svmp = SVMPegasos(n_iters=100000)\n",
    "\n",
    "# Train model\n",
    "svmp.fit(x_train_scaled, y_train)\n",
    "\n",
    "# Predict\n",
    "y_pred = svmp.predict(x_test_scaled)\n",
    "\n",
    "# Measure Accuracy\n",
    "accuracy(y_test, y_pred)"
   ]
  },
  {
   "cell_type": "code",
   "execution_count": 20,
   "id": "3e35e200-7815-4deb-b258-02f7504f8b87",
   "metadata": {},
   "outputs": [
    {
     "data": {
      "text/plain": [
       "72.49"
      ]
     },
     "execution_count": 20,
     "metadata": {},
     "output_type": "execute_result"
    }
   ],
   "source": [
    "# Cross Validation\n",
    "svmp = SVMPegasos(n_iters=100000)\n",
    "\n",
    "accuracies = []\n",
    "\n",
    "for train, test in fold_indx:\n",
    "    x_train, y_train = X[train], y[train]\n",
    "    x_test, y_test = X[test], y[test]\n",
    "    x_train_scaled, x_test_scaled = z_score(x_train, x_test)\n",
    "\n",
    "    svmp.fit(x_train_scaled, y_train)\n",
    "    y_pred = svmp.predict(x_test_scaled)\n",
    "    accuracies.append(accuracy(y_test, y_pred))\n",
    "\n",
    "sum(accuracies) / k"
   ]
  },
  {
   "cell_type": "markdown",
   "id": "1360ddcf-7562-40ba-8e48-fa187ea02788",
   "metadata": {},
   "source": [
    "### Regularized Logistic Classification"
   ]
  },
  {
   "cell_type": "code",
   "execution_count": 21,
   "id": "9315aef5-46f8-41f8-93c3-1e10e07ee28f",
   "metadata": {},
   "outputs": [],
   "source": [
    "class PegasosLogistic():\n",
    "    def __init__(self, lambda_param=0.01, n_iters=1000):\n",
    "        self.lambda_param = lambda_param\n",
    "        self.n_iters = n_iters\n",
    "\n",
    "    def fit(self, X, y):\n",
    "        n_samples, n_features = X.shape\n",
    "\n",
    "        # Initialize weights\n",
    "        self.w = np.zeros(n_features)\n",
    "\n",
    "        # Training\n",
    "        for t in range(1, self.n_iters+1):\n",
    "            eta = 1 / (self.lambda_param * t)\n",
    "            i = random.randint(0, n_samples-1)\n",
    "            z = self.sigmoid(X[i] @ self.w)\n",
    "\n",
    "            # Updating \n",
    "            if y[i] != z:\n",
    "                self.w = (1 - 1/t) * self.w - (eta * (z - y[i]) * X[i])\n",
    "\n",
    "    def sigmoid(self, z):\n",
    "        return 1 / (1 + np.exp(-z))\n",
    "\n",
    "    def predict(self, x):\n",
    "        z = self.sigmoid(x @ self.w)\n",
    "        return np.where(z >= 0.5, 1, -1)\n",
    "    "
   ]
  },
  {
   "cell_type": "code",
   "execution_count": 22,
   "id": "54d0f059-2ecb-4ee4-bd4b-1cde6089953e",
   "metadata": {},
   "outputs": [
    {
     "data": {
      "text/plain": [
       "71.05"
      ]
     },
     "execution_count": 22,
     "metadata": {},
     "output_type": "execute_result"
    }
   ],
   "source": [
    "# Initialize model\n",
    "pl = PegasosLogistic(n_iters=50000)\n",
    "\n",
    "# Train model\n",
    "pl.fit(x_train_scaled, y_train)\n",
    "\n",
    "# Predict\n",
    "y_pred = pl.predict(x_test_scaled)\n",
    "\n",
    "# Measure accuracy\n",
    "accuracy(y_test, y_pred)"
   ]
  },
  {
   "cell_type": "code",
   "execution_count": 23,
   "id": "86eda659-b5d7-494a-b30b-64f7edce3d0c",
   "metadata": {},
   "outputs": [
    {
     "name": "stderr",
     "output_type": "stream",
     "text": [
      "C:\\Users\\Asus\\AppData\\Local\\Temp\\ipykernel_26952\\180497208.py:23: RuntimeWarning: overflow encountered in exp\n",
      "  return 1 / (1 + np.exp(-z))\n"
     ]
    },
    {
     "data": {
      "text/plain": [
       "72.29"
      ]
     },
     "execution_count": 23,
     "metadata": {},
     "output_type": "execute_result"
    }
   ],
   "source": [
    "# Cross Validation\n",
    "pl = PegasosLogistic(n_iters=50000)\n",
    "\n",
    "accuracies = []\n",
    "\n",
    "for train, test in fold_indx:\n",
    "    x_train, y_train = X[train], y[train]\n",
    "    x_test, y_test = X[test], y[test]\n",
    "    x_train_scaled, x_test_scaled = z_score(x_train, x_test)\n",
    "\n",
    "    pl.fit(x_train_scaled, y_train)\n",
    "    y_pred = pl.predict(x_test_scaled)\n",
    "    accuracies.append(accuracy(y_test, y_pred))\n",
    "\n",
    "sum(accuracies) / k"
   ]
  },
  {
   "cell_type": "markdown",
   "id": "53fdb82b-e0d9-4bf0-9a9a-1e5028c4c4e9",
   "metadata": {},
   "source": [
    "## Polynomial Feature Expansion of Algorithms"
   ]
  },
  {
   "cell_type": "code",
   "execution_count": 24,
   "id": "fc2c305f-17e8-45e2-ad89-b629a3a8cf1c",
   "metadata": {},
   "outputs": [],
   "source": [
    "def polynomial_features_d2(X):\n",
    "    n_samples, n_features = X.shape\n",
    "    poly_features = []\n",
    "\n",
    "    # Adding original features\n",
    "    poly_features.append(X)\n",
    "\n",
    "    # Adding the squared of the original features\n",
    "    for i in range(n_features):\n",
    "        poly_features.append(X[:, i:i+1] ** 2)\n",
    "\n",
    "    # Adding all the combinations of multiplications between features\n",
    "    for i in range(n_features):\n",
    "        for j in range(i+1, n_features):\n",
    "            poly_features.append(X[:, i:i+1] * X[:, j:j+1])\n",
    "        \n",
    "    return np.hstack(poly_features) \n"
   ]
  },
  {
   "cell_type": "code",
   "execution_count": 25,
   "id": "374dc849-0856-4817-925f-91f78cbf38e8",
   "metadata": {},
   "outputs": [
    {
     "name": "stdout",
     "output_type": "stream",
     "text": [
      "Dimension of the dataset with polynomial feature expansion of degree 2:\n",
      " (10000, 65)\n",
      "Dimesions of training and test sets after feature expansion of degree 2:\n"
     ]
    },
    {
     "data": {
      "text/plain": [
       "((7500, 65), (2500, 65), (7500,), (2500,))"
      ]
     },
     "execution_count": 25,
     "metadata": {},
     "output_type": "execute_result"
    }
   ],
   "source": [
    "# Expanding the original dataset features\n",
    "poly_X = polynomial_features_d2(X)\n",
    "print('Dimension of the dataset with polynomial feature expansion of degree 2:\\n', poly_X.shape)\n",
    "\n",
    "# Splitting train and test sets\n",
    "x_train_poly, x_test_poly, y_train, y_test = data_split(poly_X, y, train_size=0.75)\n",
    "print('Dimesions of training and test sets after feature expansion of degree 2:')\n",
    "x_train_poly.shape, x_test_poly.shape, y_train.shape, y_test.shape "
   ]
  },
  {
   "cell_type": "code",
   "execution_count": 26,
   "id": "9e5e9017-1536-48dc-b4c2-1abc3eb29244",
   "metadata": {},
   "outputs": [],
   "source": [
    "# Scale data points with expanded features\n",
    "x_train_poly_scaled, x_test_poly_scaled = z_score(x_train_poly, x_test_poly)"
   ]
  },
  {
   "cell_type": "markdown",
   "id": "5056f359-90c2-4157-8b9a-4d213a99c71a",
   "metadata": {},
   "source": [
    "### Perceptron (Polynomial Features)"
   ]
  },
  {
   "cell_type": "code",
   "execution_count": 27,
   "id": "3056dd2c-4766-4b36-a0f0-674255a922d9",
   "metadata": {},
   "outputs": [
    {
     "data": {
      "text/plain": [
       "88.4"
      ]
     },
     "execution_count": 27,
     "metadata": {},
     "output_type": "execute_result"
    }
   ],
   "source": [
    "# Initialeze model\n",
    "p_poly = Perceptron(learn_rate=0.1, n_iters=1500)\n",
    "\n",
    "# Train the model\n",
    "p_poly.fit(x_train_poly_scaled, y_train)\n",
    "\n",
    "# predict \n",
    "y_pred = p_poly.predict(x_test_poly_scaled)\n",
    "\n",
    "# Accuracy\n",
    "accuracy(y_test, y_pred)"
   ]
  },
  {
   "cell_type": "code",
   "execution_count": 28,
   "id": "2c630580-1267-4dc9-a154-1a5650f7c1e4",
   "metadata": {},
   "outputs": [
    {
     "data": {
      "text/plain": [
       "([86.95, 86.85, 87.25, 85.9, 89.2], 87.22999999999999)"
      ]
     },
     "execution_count": 28,
     "metadata": {},
     "output_type": "execute_result"
    }
   ],
   "source": [
    "# Cross Validation\n",
    "p_poly = Perceptron(learn_rate=0.1, n_iters=500)\n",
    "\n",
    "accuracies = []\n",
    "\n",
    "for train, test in fold_indx:\n",
    "    x_train_poly, y_train = poly_X[train], y[train]\n",
    "    x_test_poly, y_test = poly_X[test], y[test]\n",
    "    x_train_poly_scaled, x_test_poly_scaled = z_score(x_train_poly, x_test_poly)\n",
    "\n",
    "    p_poly.fit(x_train_poly_scaled, y_train)\n",
    "    y_pred = p_poly.predict(x_test_poly_scaled)\n",
    "    accuracies.append(accuracy(y_test, y_pred))\n",
    "\n",
    "accuracies, sum(accuracies) / k"
   ]
  },
  {
   "cell_type": "markdown",
   "id": "207bd4bd-f3b0-4d32-ace6-41f30764508c",
   "metadata": {},
   "source": [
    "### SVM Pegasos (Polynomial Features)"
   ]
  },
  {
   "cell_type": "code",
   "execution_count": 30,
   "id": "ff2b74ab-f48f-4907-8e6a-cd2f13c7efe3",
   "metadata": {},
   "outputs": [
    {
     "data": {
      "text/plain": [
       "90.8"
      ]
     },
     "execution_count": 30,
     "metadata": {},
     "output_type": "execute_result"
    }
   ],
   "source": [
    "# Initialeze model\n",
    "svm_poly = SVMPegasos(n_iters=40000)\n",
    "\n",
    "# Train model\n",
    "svm_poly.fit(x_train_poly_scaled, y_train)\n",
    "\n",
    "# Predict\n",
    "y_pred = svm_poly.predict(x_test_poly_scaled)\n",
    "\n",
    "# Measure accuracy\n",
    "accuracy(y_test, y_pred)"
   ]
  },
  {
   "cell_type": "code",
   "execution_count": 31,
   "id": "2894a069-d187-4bd2-a38a-e95cbf30d2e6",
   "metadata": {},
   "outputs": [
    {
     "data": {
      "text/plain": [
       "([90.15, 89.25, 89.35, 90.45, 90.9], 90.02000000000001)"
      ]
     },
     "execution_count": 31,
     "metadata": {},
     "output_type": "execute_result"
    }
   ],
   "source": [
    "# Cross Validation\n",
    "svm_poly = SVMPegasos(n_iters=40000)\n",
    "\n",
    "accuracies = []\n",
    "\n",
    "for train, test in fold_indx:\n",
    "    x_train_poly, y_train = poly_X[train], y[train]\n",
    "    x_test_poly, y_test = poly_X[test], y[test]\n",
    "    x_train_poly_scaled, x_test_poly_scaled = z_score(x_train_poly, x_test_poly)\n",
    "\n",
    "    svm_poly.fit(x_train_poly_scaled, y_train)\n",
    "    y_pred = svm_poly.predict(x_test_poly_scaled)\n",
    "    accuracies.append(accuracy(y_test, y_pred))\n",
    "\n",
    "accuracies, sum(accuracies) / k"
   ]
  },
  {
   "cell_type": "markdown",
   "id": "7efc4074-8f56-4884-a380-b7d35436a52d",
   "metadata": {},
   "source": [
    "### Regularized Logistic (Polynomial Features)"
   ]
  },
  {
   "cell_type": "code",
   "execution_count": 32,
   "id": "8f262453-69ae-4478-b362-8d0bd808a0ed",
   "metadata": {},
   "outputs": [
    {
     "name": "stderr",
     "output_type": "stream",
     "text": [
      "C:\\Users\\Asus\\AppData\\Local\\Temp\\ipykernel_26952\\180497208.py:23: RuntimeWarning: overflow encountered in exp\n",
      "  return 1 / (1 + np.exp(-z))\n"
     ]
    },
    {
     "data": {
      "text/plain": [
       "78.75"
      ]
     },
     "execution_count": 32,
     "metadata": {},
     "output_type": "execute_result"
    }
   ],
   "source": [
    "# Initialize model\n",
    "pl_poly = PegasosLogistic(lambda_param=0.02, n_iters=10000)\n",
    "\n",
    "# Train model\n",
    "pl_poly.fit(x_train_poly_scaled, y_train)\n",
    "\n",
    "# Predict\n",
    "y_pred = pl_poly.predict(x_test_poly_scaled)\n",
    "\n",
    "# Measure accuracy\n",
    "accuracy(y_test, y_pred)"
   ]
  },
  {
   "cell_type": "code",
   "execution_count": 33,
   "id": "0b9a384c-713c-4113-8bf0-956533e65887",
   "metadata": {},
   "outputs": [
    {
     "name": "stderr",
     "output_type": "stream",
     "text": [
      "C:\\Users\\Asus\\AppData\\Local\\Temp\\ipykernel_26952\\180497208.py:23: RuntimeWarning: overflow encountered in exp\n",
      "  return 1 / (1 + np.exp(-z))\n"
     ]
    },
    {
     "data": {
      "text/plain": [
       "([79.5, 80.45, 79.15, 80.0, 79.4], 79.7)"
      ]
     },
     "execution_count": 33,
     "metadata": {},
     "output_type": "execute_result"
    }
   ],
   "source": [
    "# Cross Validation\n",
    "pl_poly = PegasosLogistic(lambda_param=0.02, n_iters=10000)\n",
    "\n",
    "accuracies = []\n",
    "\n",
    "for train, test in fold_indx:\n",
    "    x_train_poly, y_train = poly_X[train], y[train]\n",
    "    x_test_poly, y_test = poly_X[test], y[test]\n",
    "    x_train_poly_scaled, x_test_poly_scaled = z_score(x_train_poly, x_test_poly)\n",
    "\n",
    "    pl_poly.fit(x_train_poly_scaled, y_train)\n",
    "    y_pred = pl_poly.predict(x_test_poly_scaled)\n",
    "    accuracies.append(accuracy(y_test, y_pred))\n",
    "\n",
    "accuracies, sum(accuracies) / k"
   ]
  },
  {
   "cell_type": "markdown",
   "id": "532f3259-31fc-4abd-9f9f-832cb15d4caf",
   "metadata": {},
   "source": [
    "## Algorithms using Kernel Methods"
   ]
  },
  {
   "cell_type": "markdown",
   "id": "fc695866-11c8-4a56-9b1d-c7b3b89ea38d",
   "metadata": {},
   "source": [
    "### Kernelized Perceptron"
   ]
  },
  {
   "cell_type": "code",
   "execution_count": 34,
   "id": "8d0c1c4f-aa31-4f06-ba3d-2205661e542d",
   "metadata": {},
   "outputs": [],
   "source": [
    "class PerceptronKernelized():\n",
    "    def __init__(self, n_iters):\n",
    "        self.n_iters = n_iters\n",
    "\n",
    "    def polynomial_kernel(self, x1, x2, d=2, c=1):\n",
    "        result = (x1 @ x2 + c) ** d\n",
    "        return result\n",
    "\n",
    "    def guassian_kernel(self, x1, x2, sigma=1):\n",
    "        result = np.exp((-np.linalg.norm(x1 - x2) ** 2) / (2 * sigma ** 2))\n",
    "        return result\n",
    "    \n",
    "    def fit_predict_poly(self, X, y, x_test):\n",
    "        n_samples, n_features = X.shape\n",
    "        self.S = []\n",
    "        \n",
    "        # Training\n",
    "        for t in range(1, self.n_iters+1):\n",
    "            \n",
    "            for i in range(n_samples):\n",
    "                y_pred = np.sign(sum(y[j] * self.polynomial_kernel(X[j], X[i]) for j in self.S))\n",
    "                if y_pred != y[i]:\n",
    "                    self.S.append(i)\n",
    "                \n",
    "        # Predict\n",
    "        predict = []\n",
    "        for x in x_test:\n",
    "            ans = np.sign(sum(y[j] * self.polynomial_kernel(X[j], x) for j in self.S))\n",
    "            predict.append(ans)\n",
    "\n",
    "        return np.array(predict)\n",
    "\n",
    "\n",
    "    def fit_predict_guassian(self, X, y, x_test):\n",
    "        n_samples, n_features = X.shape\n",
    "        self.S = []\n",
    "        \n",
    "        # Training\n",
    "        for t in range(1, self.n_iters+1):\n",
    "            \n",
    "            for i in range(n_samples):\n",
    "                y_pred = np.sign(sum(y[j] * self.guassian_kernel(X[j], X[i]) for j in self.S))\n",
    "                if y_pred != y[i]:\n",
    "                    self.S.append(i)\n",
    "                \n",
    "        # Predict\n",
    "        predict = []\n",
    "        for x in x_test:\n",
    "            ans = np.sign(sum(y[j] * self.guassian_kernel(X[j], x) for j in self.S))\n",
    "            predict.append(ans)\n",
    "\n",
    "        return np.array(predict)\n"
   ]
  },
  {
   "cell_type": "code",
   "execution_count": 35,
   "id": "c57b90d1-8530-4edf-8ba9-f93c4e36ae76",
   "metadata": {
    "scrolled": true
   },
   "outputs": [
    {
     "data": {
      "text/plain": [
       "(88.3, 90.85)"
      ]
     },
     "execution_count": 35,
     "metadata": {},
     "output_type": "execute_result"
    }
   ],
   "source": [
    "# Initializing model\n",
    "pp_model = PerceptronKernelized(n_iters=1)\n",
    "\n",
    "# Train model and predict\n",
    "y_pred_poly = pp_model.fit_predict_poly(x_train_scaled, y_train, x_test_scaled)\n",
    "y_pred_guassian = pp_model.fit_predict_guassian(x_train_scaled, y_train, x_test_scaled)\n",
    "\n",
    "# Measure accuracy\n",
    "accuracy(y_test, y_pred_poly), accuracy(y_test, y_pred_guassian)"
   ]
  },
  {
   "cell_type": "code",
   "execution_count": 37,
   "id": "94e38ccc-4dca-416b-bbc3-6dba9a0eb202",
   "metadata": {},
   "outputs": [
    {
     "name": "stdout",
     "output_type": "stream",
     "text": [
      "[90.3, 90.45, 90.2, 90.45, 88.3] [90.8, 90.25, 90.3, 89.65, 90.85]\n",
      "89.94 90.37\n"
     ]
    }
   ],
   "source": [
    "# Cross Validation\n",
    "pp_model = PerceptronKernelized(n_iters=1)\n",
    "\n",
    "accuracies_poly = []\n",
    "accuracies_guassian = []\n",
    "\n",
    "for train, test in fold_indx:\n",
    "    x_train, y_train = X[train], y[train]\n",
    "    x_test, y_test = X[test], y[test]\n",
    "    x_train_scaled, x_test_scaled = z_score(x_train, x_test)\n",
    "\n",
    "    y_pred_poly = pp_model.fit_predict_poly(x_train_scaled, y_train, x_test_scaled)    \n",
    "    accuracies_poly.append(accuracy(y_test, y_pred_poly))\n",
    "\n",
    "for train, test in fold_indx:\n",
    "    x_train, y_train = X[train], y[train]\n",
    "    x_test, y_test = X[test], y[test]\n",
    "    x_train_scaled, x_test_scaled = z_score(x_train, x_test)\n",
    "\n",
    "    y_pred_guassian = pp_model.fit_predict_guassian(x_train_scaled, y_train, x_test_scaled)    \n",
    "    accuracies_guassian.append(accuracy(y_test, y_pred_guassian))\n",
    "\n",
    "print(accuracies_poly, accuracies_guassian)\n",
    "print(sum(accuracies_poly) / k, sum(accuracies_guassian) / k)"
   ]
  },
  {
   "cell_type": "markdown",
   "id": "2ac92c5c-34c7-4067-b05d-eaa71120371e",
   "metadata": {},
   "source": [
    "### Kernelized SVM"
   ]
  },
  {
   "cell_type": "code",
   "execution_count": 38,
   "id": "dbfdaa1d-6857-47a7-8091-4d2a6376a884",
   "metadata": {},
   "outputs": [],
   "source": [
    "class SVMKernelized():\n",
    "    def __init__(self, n_iters=1000):\n",
    "        self.n_iters = n_iters\n",
    "\n",
    "    def polynomial_kernel(self, x1, x2, d=2, c=1):\n",
    "        return (x1 @ x2 + c) ** d\n",
    "    \n",
    "    def guassian_kernel(self, x1, x2, sigma=1):\n",
    "        return np.exp((-np.linalg.norm(x1 - x2) ** 2) / (2 * sigma ** 2))\n",
    "\n",
    "    def fit_predict_polynomial(self, X, y, x_test):\n",
    "        n_samples, n_features = X.shape\n",
    "        self.S = []\n",
    "\n",
    "        # Traininig\n",
    "        for t in range(1, self.n_iters+1):\n",
    "            i = random.randint(0, n_samples-1)\n",
    "            pred = np.sign(sum(y[j] * self.polynomial_kernel(X[j], X[i]) for j in self.S))\n",
    "            if y[i] != pred:\n",
    "                self.S.append(i)\n",
    "\n",
    "        # Predict\n",
    "        predict = []        \n",
    "        for x in x_test:\n",
    "            ans = np.sign(sum(y[j] * self.polynomial_kernel(X[j], x) for j in self.S))\n",
    "            predict.append(ans)\n",
    "\n",
    "        return predict\n",
    "\n",
    "\n",
    "    def fit_predict_guassian(self, X, y, x_test):\n",
    "        n_samples, n_features = X.shape\n",
    "        self.S = []\n",
    "\n",
    "        # Training\n",
    "        for t in range(1, self.n_iters+1):\n",
    "            i = random.randint(0, n_samples-1)\n",
    "            pred = np.sign(sum(y[j] * self.guassian_kernel(X[j], X[i]) for j in self.S))\n",
    "            if y[i] != pred:\n",
    "                self.S.append(i)\n",
    "\n",
    "        # Predict\n",
    "        predict = []        \n",
    "        for x in x_test:\n",
    "            ans = np.sign(sum(y[j] * self.guassian_kernel(X[j], x) for j in self.S))\n",
    "            predict.append(ans)\n",
    "\n",
    "        return predict\n",
    "\n",
    "\n",
    "    def predict(self, x_test, X, y):\n",
    "        predict = []        \n",
    "        for x in x_test:\n",
    "            ans = np.sign(sum(y[j] * self.polynomial_kernel(X[j], x) for j in self.S))\n",
    "            predict.append(ans)\n",
    "\n",
    "        return predict\n",
    "        "
   ]
  },
  {
   "cell_type": "code",
   "execution_count": 39,
   "id": "d485d937-8137-48c2-8e0f-da4ef8a39c5d",
   "metadata": {
    "scrolled": true
   },
   "outputs": [
    {
     "data": {
      "text/plain": [
       "(91.6, 89.45)"
      ]
     },
     "execution_count": 39,
     "metadata": {},
     "output_type": "execute_result"
    }
   ],
   "source": [
    "# Initilizing model\n",
    "sk_model = SVMKernelized(n_iters=6500)\n",
    "\n",
    "# Train model and predict \n",
    "y_pred_poly = sk_model.fit_predict_polynomial(x_train_scaled, y_train, x_test_scaled)\n",
    "y_pred_guassian = sk_model.fit_predict_guassian(x_train_scaled, y_train, x_test_scaled)\n",
    "\n",
    "# Measure accuracy\n",
    "accuracy(y_test, y_pred_poly), accuracy(y_test, y_pred_guassian)"
   ]
  },
  {
   "cell_type": "code",
   "execution_count": 40,
   "id": "3e1aefb3-40c3-4b5c-ada9-4e3c54499827",
   "metadata": {},
   "outputs": [
    {
     "name": "stdout",
     "output_type": "stream",
     "text": [
      "[90.45, 89.8, 82.65, 90.7, 90.8] [89.15, 89.6, 90.95, 88.9, 89.0]\n",
      "88.88 89.52000000000001\n"
     ]
    }
   ],
   "source": [
    "# Cross Validation\n",
    "sk_model = SVMKernelized(n_iters=6500)\n",
    "\n",
    "accuracies_poly = []\n",
    "accuracies_guassian = []\n",
    "\n",
    "for train, test in fold_indx:\n",
    "    x_train, y_train = X[train], y[train]\n",
    "    x_test, y_test = X[test], y[test]\n",
    "    x_train_scaled, x_test_scaled = z_score(x_train, x_test)\n",
    "\n",
    "    y_pred_poly = sk_model.fit_predict_polynomial(x_train_scaled, y_train, x_test_scaled)   \n",
    "    accuracies_poly.append(accuracy(y_test, y_pred_poly))\n",
    "\n",
    "for train, test in fold_indx:\n",
    "    x_train, y_train = X[train], y[train]\n",
    "    x_test, y_test = X[test], y[test]\n",
    "    x_train_scaled, x_test_scaled = z_score(x_train, x_test)\n",
    "\n",
    "    y_pred_guassian = sk_model.fit_predict_guassian(x_train_scaled, y_train, x_test_scaled)    \n",
    "    accuracies_guassian.append(accuracy(y_test, y_pred_guassian))\n",
    "\n",
    "print(accuracies_poly, accuracies_guassian)\n",
    "print(sum(accuracies_poly) / k, sum(accuracies_guassian) / k)"
   ]
  }
 ],
 "metadata": {
  "kernelspec": {
   "display_name": "Python 3 (ipykernel)",
   "language": "python",
   "name": "python3"
  },
  "language_info": {
   "codemirror_mode": {
    "name": "ipython",
    "version": 3
   },
   "file_extension": ".py",
   "mimetype": "text/x-python",
   "name": "python",
   "nbconvert_exporter": "python",
   "pygments_lexer": "ipython3",
   "version": "3.12.2"
  }
 },
 "nbformat": 4,
 "nbformat_minor": 5
}
